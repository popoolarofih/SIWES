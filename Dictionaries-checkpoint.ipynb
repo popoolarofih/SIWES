{
 "cells": [
  {
   "cell_type": "code",
   "execution_count": 10,
   "id": "17d05dc2",
   "metadata": {},
   "outputs": [
    {
     "name": "stdout",
     "output_type": "stream",
     "text": [
      "ford\n",
      "1986\n",
      "{'brand': 'ford', 'model': 'mustang', 'year': 1986, 'is_new': True, 'feature': ['blue', 'v8', 170.121, 5], 'seller details': {'seller name': 'uswat', 'seller_phone': 806565455}}\n",
      "6\n",
      "ford\n",
      "brand\n",
      "mustang\n",
      "model\n",
      "1986\n",
      "year\n",
      "True\n",
      "is_new\n",
      "['blue', 'v8', 170.121, 5]\n",
      "feature\n",
      "{'seller name': 'uswat', 'seller_phone': 806565455}\n",
      "seller details\n"
     ]
    }
   ],
   "source": [
    "thisdict = {\"brand\": \"ford\",\n",
    "           \"model\": \"mustang\",\n",
    "           \"year\": 1986,\n",
    "           \"is_new\": True,\n",
    "           \"feature\": ['blue', 'v8', 170.121, 5],\n",
    "           \"seller details\": {\"seller name\": \"uswat\", \"seller_phone\": 806565455},\n",
    "           }\n",
    "print(thisdict[\"brand\"])\n",
    "print(thisdict[\"year\"])\n",
    "print(thisdict)\n",
    "print(len(thisdict))\n",
    "for i in thisdict:\n",
    "    print(thisdict[i])\n",
    "    print(i)"
   ]
  },
  {
   "cell_type": "code",
   "execution_count": 13,
   "id": "64b61c19",
   "metadata": {},
   "outputs": [
    {
     "name": "stdout",
     "output_type": "stream",
     "text": [
      "Enter your username: user01\n",
      "Enter your password: 22198rofih0\n",
      "login successful\n"
     ]
    }
   ],
   "source": [
    "login_details = {\"username\": \"user01\",\n",
    "                \"password\": \"22198rofih0\"}\n",
    "user_name = input(\"Enter your username: \")\n",
    "pass_word = input(\"Enter your password: \")\n",
    "if user_name == login_details[\"username\"] and pass_word == login_details[\"password\"]:\n",
    "    print(\"login successful\")\n",
    "else: \n",
    "    print(\"incorrect username or password\")"
   ]
  },
  {
   "cell_type": "code",
   "execution_count": 16,
   "id": "5c3605cd",
   "metadata": {},
   "outputs": [
    {
     "name": "stdout",
     "output_type": "stream",
     "text": [
      "welcome to my App\n",
      "Register Below\n",
      "\n",
      "username: popoola\n",
      "password: 22198rofih\n",
      "{'username': 'popoola', 'password': '22198rofih'}\n"
     ]
    }
   ],
   "source": [
    "login_details = {}\n",
    "print(\"welcome to my App\\nRegister Below\\n\")\n",
    "login_details[\"username\"] = input(\"username: \")\n",
    "login_details[\"password\"]  = input(\"password: \")\n",
    "print(login_details)\n",
    "#print(\"\\nThanks for registering\\nLogin to continue\\n\")\n",
    "#user_name = input(\"Enter your username: \")\n",
    "#pass_word = input(\"Enter your password: \")\n",
    "#if user_name == login_details[\"username\"] and pass_word == login_details[\"password\"]:\n",
    " #   print(\"login successful\")\n",
    "#else: \n",
    " #   print(\"incorrect username or password\")"
   ]
  },
  {
   "cell_type": "code",
   "execution_count": 1,
   "id": "df2288a8",
   "metadata": {},
   "outputs": [
    {
     "name": "stdout",
     "output_type": "stream",
     "text": [
      "Welcome to mySchool\n",
      "Register below\n",
      "\n",
      "Fullname: popoola\n",
      "Matric no: 389\n",
      "Age: 18\n",
      "Level: nd one\n",
      "sex: male\n",
      "G.P: 3.8\n",
      "Course: comp\n",
      "{'Fullname': 'popoola', 'Matric no': 389, 'Age': 18, 'Level': 'nd one', 'sex': 'male', 'G.P': 3.8, 'Course': 'comp'}\n"
     ]
    }
   ],
   "source": [
    "bio_data_details = {}\n",
    "print(\"Welcome to mySchool\\nRegister below\\n\")\n",
    "bio_data_details[\"Fullname\"] = input(\"Fullname: \")\n",
    "bio_data_details[\"Matric no\"] = int(input(\"Matric no: \"))\n",
    "bio_data_details[\"Age\"] = int(input(\"Age: \"))\n",
    "bio_data_details[\"Level\"] = input(\"Level: \")\n",
    "bio_data_details[\"sex\"] = input(\"sex: \")\n",
    "bio_data_details[\"G.P\"] = float(input(\"G.P: \"))\n",
    "bio_data_details[\"Course\"] = input(\"Course: \")\n",
    "print(bio_data_details)\n"
   ]
  },
  {
   "cell_type": "code",
   "execution_count": 1,
   "id": "b1e2462c",
   "metadata": {},
   "outputs": [
    {
     "name": "stdout",
     "output_type": "stream",
     "text": [
      "Welcome to my chat bot!\n",
      "Pres [q] to quit\n",
      "HELLO FRIEND! :) \n",
      "you: love \n",
      "Bot: I love you 3000\n",
      "you: oo\n",
      "Bot: sorry :( i have no reply for you\n",
      "you: q\n",
      "Thanks for chatting with me\n"
     ]
    }
   ],
   "source": [
    "#Chatbot with dictionaries\n",
    "bot_dict = {\"how are you\": \"I am fine :) How are you too?\",\n",
    "           \"weather\": \"It is raining today :( please stay inside\",\n",
    "           \"love\": \"I love you 3000\",\n",
    "           \"school\": \"What is the name of your school\",\n",
    "           \"name\": \"What is your name\",\n",
    "           \"single\" : \"Why are you single\"}\n",
    "print(\"Welcome to my chat bot!\\nPres [q] to quit\")\n",
    "print(\"HELLO FRIEND! :) \")\n",
    "while True:\n",
    "    u_input = input(\"you: \").lower()\n",
    "    if u_input == \"q\":\n",
    "        break\n",
    "    #for i in bot_dict:\n",
    "       # if i in u_input:\n",
    "        #    print(f'Bot: {bot_dict[i]}')\n",
    "         #   continue\n",
    "    bot_reply = [bot_dict[i] for i in bot_dict if i in u_input] \n",
    "    if len(bot_reply) > 0:\n",
    "        print(f'Bot: {bot_reply[0]}')\n",
    "        continue\n",
    "    print(\"Bot: sorry :( i have no reply for you\")\n",
    "        \n",
    "print(\"Thanks for chatting with me\")"
   ]
  },
  {
   "cell_type": "code",
   "execution_count": 10,
   "id": "9aa81332",
   "metadata": {},
   "outputs": [
    {
     "name": "stdout",
     "output_type": "stream",
     "text": [
      "Enter btw 1 - 5(in words) to place an order: one\n",
      "Amala only\n",
      "Do you still want to order more food?/ Enter YES or NO: YES\n"
     ]
    },
    {
     "ename": "SyntaxError",
     "evalue": "'continue' not properly in loop (<ipython-input-10-0e7f98a9beb4>, line 27)",
     "output_type": "error",
     "traceback": [
      "\u001b[1;36m  File \u001b[1;32m\"<ipython-input-10-0e7f98a9beb4>\"\u001b[1;36m, line \u001b[1;32m27\u001b[0m\n\u001b[1;33m    continue\u001b[0m\n\u001b[1;37m    ^\u001b[0m\n\u001b[1;31mSyntaxError\u001b[0m\u001b[1;31m:\u001b[0m 'continue' not properly in loop\n"
     ]
    }
   ],
   "source": [
    "menu = {\"one\": \"Amala only\", \n",
    "       \"two\": \"Amala and Ewedu\",\n",
    "       \"three\": \"Amala and Ewedu with Gberi\",\n",
    "       \"four\": \"Amala and Egusi\",\n",
    "       \"five\": \"Amala and Efo\"}\n",
    "while True:\n",
    "    order = input(\"Enter btw 1 - 5(in words) to place an order: \")\n",
    "    if order == \"one\":\n",
    "        print(menu[\"one\"])\n",
    "        break\n",
    "    elif order == \"two\":\n",
    "        print(menu[\"two\"])\n",
    "        break\n",
    "    elif order == \"three\":\n",
    "        print(menu[\"three\"])\n",
    "        break\n",
    "    elif order == \"four\":\n",
    "        print(menu[\"four\"])\n",
    "        break\n",
    "    elif order == \"five\":\n",
    "        print(menu[\"five\"])\n",
    "        break\n",
    "    else:\n",
    "        print(\"we do not have that on the menu\")\n",
    "more = input(\"Do you still want to order more food?/ Enter YES or NO: \")\n",
    "if more == \"YES\":\n",
    "    continue\n",
    "order = input(\"Enter btw 1 - 5(in words) to place an order: \")"
   ]
  },
  {
   "cell_type": "code",
   "execution_count": 15,
   "id": "69959aed",
   "metadata": {},
   "outputs": [
    {
     "name": "stdout",
     "output_type": "stream",
     "text": [
      "welcome to my RCCG Restaurant\n",
      "Register Below\n",
      "\n",
      "username: Raphael\n",
      "password: 8585\n",
      "{'username': 'Raphael', 'password': '8585'}\n",
      "1. User order \n",
      "2. Cancel order \n",
      "3. Confirm menu \n",
      "4. Checkout\n",
      "Welcome to RCC Restaurant, \n",
      "Here is the menu for today:\n",
      "1. Amala only 800 Naira\n",
      "2. Amala and Ewedu 500 Naira\n",
      "3. Amala and Ewedu with Gberi 500 Naira\n",
      "4. Amala and Egusi 800 Naira\n",
      "5. White Rice 500 Naira\n",
      "6. Fried Rice only 500 Naira\n",
      "7. Jollof Rice only 500 Naira\n",
      "8. Fried Rice and Jollof Rice 600 Naira\n",
      "9. Ghanian Jollof 500 Naira\n",
      "Please select service:1\n",
      "Please enter the dish name number or enter Y to end the order:2\n",
      "Please enter the dish name number or enter Y to end the order:Y\n",
      " Ordered \n",
      "2. Amala and Ewedu 500 Naira\n",
      "Subtotal: 500 Naira\n",
      "Please enter the dish name number or enter Y to end the order:\n"
     ]
    },
    {
     "ename": "ValueError",
     "evalue": "invalid literal for int() with base 10: ''",
     "output_type": "error",
     "traceback": [
      "\u001b[1;31m---------------------------------------------------------------------------\u001b[0m",
      "\u001b[1;31mValueError\u001b[0m                                Traceback (most recent call last)",
      "\u001b[1;32m<ipython-input-15-a0deb5a10142>\u001b[0m in \u001b[0;36m<module>\u001b[1;34m\u001b[0m\n\u001b[0;32m     28\u001b[0m             \u001b[1;32mif\u001b[0m \u001b[0mmenu_add\u001b[0m\u001b[1;33m.\u001b[0m\u001b[0mupper\u001b[0m\u001b[1;33m(\u001b[0m\u001b[1;33m)\u001b[0m \u001b[1;33m!=\u001b[0m \u001b[1;34m'Y'\u001b[0m\u001b[1;33m:\u001b[0m\u001b[1;33m\u001b[0m\u001b[1;33m\u001b[0m\u001b[0m\n\u001b[0;32m     29\u001b[0m                 \u001b[1;32mfor\u001b[0m \u001b[0mm\u001b[0m \u001b[1;32min\u001b[0m \u001b[0mmenu_list\u001b[0m\u001b[1;33m:\u001b[0m\u001b[1;33m\u001b[0m\u001b[1;33m\u001b[0m\u001b[0m\n\u001b[1;32m---> 30\u001b[1;33m                     \u001b[1;32mif\u001b[0m \u001b[0mm\u001b[0m\u001b[1;33m.\u001b[0m\u001b[0mget\u001b[0m\u001b[1;33m(\u001b[0m\u001b[1;34m'id'\u001b[0m\u001b[1;33m)\u001b[0m\u001b[1;33m==\u001b[0m \u001b[0mint\u001b[0m\u001b[1;33m(\u001b[0m\u001b[0mmenu_add\u001b[0m\u001b[1;33m)\u001b[0m\u001b[1;33m:\u001b[0m\u001b[1;33m\u001b[0m\u001b[1;33m\u001b[0m\u001b[0m\n\u001b[0m\u001b[0;32m     31\u001b[0m                         \u001b[0mOrder_list\u001b[0m\u001b[1;33m.\u001b[0m\u001b[0mappend\u001b[0m\u001b[1;33m(\u001b[0m\u001b[0mm\u001b[0m\u001b[1;33m)\u001b[0m\u001b[1;33m\u001b[0m\u001b[1;33m\u001b[0m\u001b[0m\n\u001b[0;32m     32\u001b[0m                         \u001b[1;32mbreak\u001b[0m\u001b[1;33m\u001b[0m\u001b[1;33m\u001b[0m\u001b[0m\n",
      "\u001b[1;31mValueError\u001b[0m: invalid literal for int() with base 10: ''"
     ]
    }
   ],
   "source": [
    "login_details = {}\n",
    "print(\"welcome to my RCCG Restaurant\\nRegister Below\\n\")\n",
    "login_details[\"username\"] = input(\"username: \")\n",
    "login_details[\"password\"]  = input(\"password: \")\n",
    "print(login_details)\n",
    "print(\"1. User order \\n2. Cancel order \\n3. Confirm menu \\n4. Checkout\")\n",
    "menu_list =[\n",
    "       {\"id\": 1, \"name\":\"1. Amala only\",\"price\":800,\"#\":\"Naira\"},\n",
    "       {\"id\": 2, \"name\":\"2. Amala and Ewedu\", \"price\": 500,\"#\":\"Naira\"},\n",
    "       {\"id\": 3, \"name\":\"3. Amala and Ewedu with Gberi\", \"price\": 500,\"#\":\"Naira\"},\n",
    "       {\"id\": 4, \"name\":\"4. Amala and Egusi\", \"price\": 800,\"#\":\"Naira\"},\n",
    "       {\"id\": 5, \"name\":\"5. White Rice\",\"price\":500,\"#\":\"Naira\"},\n",
    "       {\"id\": 6, \"name\":\"6. Fried Rice only\",\"price\":500,\"#\":\"Naira\"},\n",
    "       {\"id\": 7, \"name\":\"7. Jollof Rice only\",\"price\":500,\"#\":\"Naira\"},\n",
    "       {\"id\": 8, \"name\":\"8. Fried Rice and Jollof Rice\",\"price\":600,\"#\":\"Naira\"},\n",
    "       {\"id\": 9, \"name\":\"9. Ghanian Jollof\",\"price\":500,\"#\":\"Naira\"}]\n",
    "Order_list = []\n",
    "print('Welcome to RCC Restaurant, ')\n",
    "print('Here is the menu for today:')\n",
    "for menu in menu_list:\n",
    "    print(menu.get('name'),menu.get('price'),menu.get('#'))\n",
    "while True:  \n",
    "    #print('='*50)\n",
    "    server = int(input(\"Please select service:\"))\n",
    "    if server == 1:\n",
    "        while True:\n",
    "            menu_add = input(\"Please enter the dish name number or enter Y to end the order:\")\n",
    "            if menu_add.upper() != 'Y':\n",
    "                for m in menu_list:\n",
    "                    if m.get('id')== int(menu_add):\n",
    "                        Order_list.append(m)\n",
    "                        break\n",
    "            else:\n",
    "                print(' Ordered ')\n",
    "                total_price = 0\n",
    "                for order in Order_list:\n",
    "                    print(order.get('name'),order.get('price'),order.get('#'))\n",
    "                    total_price += int(order.get('price'))\n",
    "                    print('Subtotal: {} Naira'.format(total_price))\n",
    "            \n",
    "        break\n",
    "    elif server == 2:\n",
    "        menu_del = input(\"Please enter the name of the dish to be cancelled:\")\n",
    "        for order in Order_list:\n",
    "            if order.get('id') == int(menu_del):\n",
    "                Order_list.remove(order)\n",
    "\n",
    "        print('Ordered')\n",
    "        total_price = 0\n",
    "        for order in Order_list:\n",
    "            print(order.get('name'),order.get('price'),order.get('#'))\n",
    "            total_price += int(order.get('price'))\n",
    "        print('Subtotal: {} Naira'.format(total_price))\n",
    "    elif server == 3:\n",
    "        print(' Ordered ')\n",
    "        total_price = 0\n",
    "        for order in Order_list:\n",
    "            print(order.get('name'),order.get('price'),order.get('#'))\n",
    "            total_price += int(order.get('price'))\n",
    "        print('Subtotal: {} Naira'.format(total_price))         \n",
    "    elif server == 4:  \n",
    "        print('Your consumption menu')     \n",
    "        total_price = 0\n",
    "        for order in Order_list:\n",
    "            print(order.get('name'),order.get('price'),order.get('#'))\n",
    "            total_price += int(order.get('price'))\n",
    "    print('Total consumption: {} Naira'.format(total_price))\n",
    "    print(' Welcome you to visit again, goodbye!')\n",
    "    break\n",
    "\n"
   ]
  },
  {
   "cell_type": "code",
   "execution_count": null,
   "id": "f08fcaed",
   "metadata": {},
   "outputs": [],
   "source": [
    "login_details = {}\n",
    "print(\"welcome to my RCCG Restaurant\\nRegister Below\\n\")\n",
    "login_details[\"username\"] = input(\"username: \")\n",
    "login_details[\"password\"]  = input(\"password: \")\n",
    "print(login_details)\n",
    "print(\"This is our menu list\")\n",
    "menu_list =[\n",
    "       {\"id\": 1, \"name\":\"1. Amala only\",\"price\":800,\"#\":\"Naira\"},\n",
    "       {\"id\": 2, \"name\":\"2. Amala and Ewedu\", \"price\": 500,\"#\":\"Naira\"},\n",
    "       {\"id\": 3, \"name\":\"3. Amala and Ewedu with Gberi\", \"price\": 500,\"#\":\"Naira\"},\n",
    "       {\"id\": 4, \"name\":\"4. Amala and Egusi\", \"price\": 800,\"#\":\"Naira\"},\n",
    "       {\"id\": 5, \"name\":\"5. White Rice\",\"price\":500,\"#\":\"Naira\"},\n",
    "       {\"id\": 6, \"name\":\"6. Fried Rice only\",\"price\":500,\"#\":\"Naira\"},\n",
    "       {\"id\": 7, \"name\":\"7. Jollof Rice only\",\"price\":500,\"#\":\"Naira\"},\n",
    "       {\"id\": 8, \"name\":\"8. Fried Rice and Jollof Rice\",\"price\":600,\"#\":\"Naira\"},\n",
    "       {\"id\": 9, \"name\":\"9. Ghanian Jollof\",\"price\":500,\"#\":\"Naira\"}]\n",
    "Order_list = {}\n",
    "print('Welcome to RCC Restaurant, ')\n",
    "print('Here is the menu for today:')\n",
    "for menu in menu_list:\n",
    "    print(menu.get('name'),menu.get('price'),menu.get('#'))\n"
   ]
  }
 ],
 "metadata": {
  "kernelspec": {
   "display_name": "Python 3",
   "language": "python",
   "name": "python3"
  },
  "language_info": {
   "codemirror_mode": {
    "name": "ipython",
    "version": 3
   },
   "file_extension": ".py",
   "mimetype": "text/x-python",
   "name": "python",
   "nbconvert_exporter": "python",
   "pygments_lexer": "ipython3",
   "version": "3.8.8"
  }
 },
 "nbformat": 4,
 "nbformat_minor": 5
}
