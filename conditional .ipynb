{
 "cells": [
  {
   "cell_type": "code",
   "execution_count": 1,
   "id": "d4adccd1",
   "metadata": {},
   "outputs": [],
   "source": [
    "#Coditional statement in python \n",
    "#Conditonal statements are used to evaluate a condition and execute a command if the conditional\n",
    "#is true or not\n",
    "#Type ->\n",
    "#if, tenary"
   ]
  },
  {
   "cell_type": "code",
   "execution_count": 7,
   "id": "f01f3913",
   "metadata": {},
   "outputs": [],
   "source": [
    "a = 5"
   ]
  },
  {
   "cell_type": "code",
   "execution_count": 8,
   "id": "34488ef3",
   "metadata": {},
   "outputs": [
    {
     "name": "stdout",
     "output_type": "stream",
     "text": [
      "a is 5\n"
     ]
    }
   ],
   "source": [
    "if a == 5:\n",
    "    print('a is 5')"
   ]
  },
  {
   "cell_type": "code",
   "execution_count": 10,
   "id": "7d1fec4a",
   "metadata": {},
   "outputs": [
    {
     "name": "stdout",
     "output_type": "stream",
     "text": [
      "a is 5\n"
     ]
    }
   ],
   "source": [
    "if a == 10:\n",
    "    print('a is 10')\n",
    "elif a == 5:\n",
    "    print(\"a is 5\")\n",
    "elif a == 7:\n",
    "    print(\"a is 7\")\n",
    "else:\n",
    "    print(\"a is not 10\")"
   ]
  },
  {
   "cell_type": "code",
   "execution_count": 24,
   "id": "a550a1d3",
   "metadata": {},
   "outputs": [],
   "source": [
    "a, b = 5, 10"
   ]
  },
  {
   "cell_type": "code",
   "execution_count": 1,
   "id": "ed916fad",
   "metadata": {},
   "outputs": [
    {
     "name": "stdout",
     "output_type": "stream",
     "text": [
      "You are a female and you are underage\n"
     ]
    }
   ],
   "source": [
    "gender, age = \"female\", 12\n",
    "if gender == 'male':\n",
    "    if age > 18:\n",
    "        print('You are a male and you are above 18')\n",
    "    else:\n",
    "        print('You are a male but you are underage')\n",
    "else:\n",
    "    print('You are a female and you are underage')"
   ]
  },
  {
   "cell_type": "code",
   "execution_count": null,
   "id": "5eb1a3ae",
   "metadata": {},
   "outputs": [],
   "source": [
    "#Chatbot\n",
    "Word = input(\"Enter a sentence: \")\n",
    "if \"Raining\" in word:\n",
    "    print(\"Do not forget to use your umbrella\")\n",
    "elif if \"Sunny\"\n",
    "    print(\"stay inside\")   \n",
    "else:\n",
    "    print(\"drink water\")"
   ]
  },
  {
   "cell_type": "code",
   "execution_count": null,
   "id": "523b51c5",
   "metadata": {},
   "outputs": [],
   "source": []
  }
 ],
 "metadata": {
  "kernelspec": {
   "display_name": "Python 3",
   "language": "python",
   "name": "python3"
  },
  "language_info": {
   "codemirror_mode": {
    "name": "ipython",
    "version": 3
   },
   "file_extension": ".py",
   "mimetype": "text/x-python",
   "name": "python",
   "nbconvert_exporter": "python",
   "pygments_lexer": "ipython3",
   "version": "3.8.8"
  }
 },
 "nbformat": 4,
 "nbformat_minor": 5
}
