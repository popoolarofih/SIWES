{
 "cells": [
  {
   "cell_type": "code",
   "execution_count": null,
   "id": "4e48254d",
   "metadata": {},
   "outputs": [],
   "source": [
    "#Python List\n",
    "#In python, list can be like an array\n",
    "#List Operations\n",
    "# -> append, remove, copy, extend, index, reverse, sort, pop, loop and search through a list.\n",
    "# How to declare a list\n",
    "#Note: in Python list can store the values of multipe data type"
   ]
  }
 ],
 "metadata": {
  "kernelspec": {
   "display_name": "Python 3",
   "language": "python",
   "name": "python3"
  },
  "language_info": {
   "codemirror_mode": {
    "name": "ipython",
    "version": 3
   },
   "file_extension": ".py",
   "mimetype": "text/x-python",
   "name": "python",
   "nbconvert_exporter": "python",
   "pygments_lexer": "ipython3",
   "version": "3.8.8"
  }
 },
 "nbformat": 4,
 "nbformat_minor": 5
}
