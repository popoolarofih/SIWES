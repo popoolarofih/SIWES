{
 "cells": [
  {
   "cell_type": "markdown",
   "id": "5a3e66b7",
   "metadata": {},
   "source": [
    "# Guessing game"
   ]
  },
  {
   "cell_type": "code",
   "execution_count": 48,
   "id": "c58c691b",
   "metadata": {},
   "outputs": [
    {
     "name": "stdout",
     "output_type": "stream",
     "text": [
      "Guess a number: 10\n"
     ]
    }
   ],
   "source": [
    "number = int(input(\"Guess a number: \"))"
   ]
  },
  {
   "cell_type": "code",
   "execution_count": null,
   "id": "90c398ee",
   "metadata": {},
   "outputs": [],
   "source": [
    "if number == 10:\n",
    "    print(\"print you are correct\")\n",
    "else:\n",
    "    print(\"print you are not correct\")"
   ]
  },
  {
   "cell_type": "code",
   "execution_count": null,
   "id": "cd4d466b",
   "metadata": {},
   "outputs": [],
   "source": [
    "secret_number = 10\n",
    "limit = 0\n",
    "while limit < 3:\n",
    "    u_num = int(input(\"Guess a number btw 1-10:\"))\n",
    "    \n",
    "    if u_num == secret_number:\n",
    "        print(\"you have guessed right\")\n",
    "        break\n",
    "    print(\"You are wrong! Try again!!!\")\n",
    "    limit += 1\n"
   ]
  },
  {
   "cell_type": "markdown",
   "id": "1a41e6b3",
   "metadata": {},
   "source": [
    "# numbers of vowels"
   ]
  },
  {
   "cell_type": "code",
   "execution_count": 44,
   "id": "15d6153c",
   "metadata": {},
   "outputs": [],
   "source": [
    "word = \"Everthing will be good\"\n",
    "numbercount = word.lower()"
   ]
  },
  {
   "cell_type": "code",
   "execution_count": 45,
   "id": "f2af22eb",
   "metadata": {},
   "outputs": [
    {
     "name": "stdout",
     "output_type": "stream",
     "text": [
      "{'a': 0}\n",
      "{'a': 0, ',': 0}\n",
      "{'a': 0, ',': 0, 'e': 3}\n",
      "{'a': 0, ',': 0, 'e': 3}\n",
      "{'a': 0, ',': 0, 'e': 3, 'i': 2}\n",
      "{'a': 0, ',': 0, 'e': 3, 'i': 2}\n",
      "{'a': 0, ',': 0, 'e': 3, 'i': 2, 'o': 2}\n",
      "{'a': 0, ',': 0, 'e': 3, 'i': 2, 'o': 2}\n",
      "{'a': 0, ',': 0, 'e': 3, 'i': 2, 'o': 2, 'u': 0}\n"
     ]
    }
   ],
   "source": [
    "vowelcount = {}\n",
    "for vowel in \"a,e,i,o,u\":\n",
    "    count = numbercount.count(vowel)\n",
    "    vowelcount[vowel] = count\n",
    "    print(vowelcount)"
   ]
  },
  {
   "cell_type": "code",
   "execution_count": null,
   "id": "62c511ed",
   "metadata": {},
   "outputs": [],
   "source": []
  }
 ],
 "metadata": {
  "kernelspec": {
   "display_name": "Python 3",
   "language": "python",
   "name": "python3"
  },
  "language_info": {
   "codemirror_mode": {
    "name": "ipython",
    "version": 3
   },
   "file_extension": ".py",
   "mimetype": "text/x-python",
   "name": "python",
   "nbconvert_exporter": "python",
   "pygments_lexer": "ipython3",
   "version": "3.8.8"
  }
 },
 "nbformat": 4,
 "nbformat_minor": 5
}
