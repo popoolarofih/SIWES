{
 "cells": [
  {
   "cell_type": "code",
   "execution_count": 41,
   "id": "4f4ff10d",
   "metadata": {},
   "outputs": [],
   "source": [
    "#TYPES OF LOOPS\n",
    "#for loop, while loop, while do loop\n",
    "#Ways of looping in python\n",
    "# -> range, loop through an iterable value or variable, loop using a condition\n"
   ]
  },
  {
   "cell_type": "code",
   "execution_count": 7,
   "id": "2ca4f5f2",
   "metadata": {},
   "outputs": [
    {
     "name": "stdout",
     "output_type": "stream",
     "text": [
      "0\n",
      "1\n",
      "2\n",
      "3\n",
      "4\n",
      "5\n",
      "6\n",
      "7\n",
      "8\n",
      "9\n"
     ]
    }
   ],
   "source": [
    "#For loop\n",
    "for i in range(0,10,):\n",
    "    print(i)"
   ]
  },
  {
   "cell_type": "code",
   "execution_count": 10,
   "id": "c96ea0db",
   "metadata": {},
   "outputs": [
    {
     "name": "stdout",
     "output_type": "stream",
     "text": [
      "0\n",
      "2\n",
      "4\n",
      "6\n",
      "8\n"
     ]
    }
   ],
   "source": [
    "#For loop\n",
    "for i in range(0,10,2):\n",
    "    print(i)"
   ]
  },
  {
   "cell_type": "code",
   "execution_count": 12,
   "id": "72ab6a7d",
   "metadata": {},
   "outputs": [
    {
     "name": "stdout",
     "output_type": "stream",
     "text": [
      "b\n",
      "a\n",
      "s\n",
      "i\n"
     ]
    }
   ],
   "source": [
    "for i in \"basi\":\n",
    "    print(i)"
   ]
  },
  {
   "cell_type": "code",
   "execution_count": 13,
   "id": "7aaca7b0",
   "metadata": {},
   "outputs": [],
   "source": [
    "list = ['bisi', 20, 50, 3.88, False]"
   ]
  },
  {
   "cell_type": "code",
   "execution_count": 14,
   "id": "f7ba90fc",
   "metadata": {},
   "outputs": [
    {
     "name": "stdout",
     "output_type": "stream",
     "text": [
      "bisi\n",
      "20\n",
      "50\n",
      "3.88\n",
      "False\n"
     ]
    }
   ],
   "source": [
    "for j in list:\n",
    "    print(j)"
   ]
  },
  {
   "cell_type": "code",
   "execution_count": 15,
   "id": "5b445f13",
   "metadata": {},
   "outputs": [
    {
     "name": "stdout",
     "output_type": "stream",
     "text": [
      "bisi\n",
      "20\n",
      "50\n",
      "3.88\n",
      "False\n"
     ]
    }
   ],
   "source": [
    "for j in range(0, len(list)):\n",
    "    print(list[j])"
   ]
  },
  {
   "cell_type": "code",
   "execution_count": 16,
   "id": "10fbf4c7",
   "metadata": {},
   "outputs": [
    {
     "name": "stdout",
     "output_type": "stream",
     "text": [
      "bisi\n",
      "50\n",
      "False\n"
     ]
    }
   ],
   "source": [
    "for j in range(0, len(list) ,2):\n",
    "    print(list[j])"
   ]
  },
  {
   "cell_type": "code",
   "execution_count": 5,
   "id": "bbd4bd87",
   "metadata": {},
   "outputs": [],
   "source": [
    "i = 0"
   ]
  },
  {
   "cell_type": "code",
   "execution_count": 7,
   "id": "0b73bd5e",
   "metadata": {},
   "outputs": [
    {
     "name": "stdout",
     "output_type": "stream",
     "text": [
      "0\n",
      "1\n",
      "2\n",
      "3\n",
      "4\n",
      "5\n"
     ]
    }
   ],
   "source": [
    "while(i < 10):\n",
    "    print(i)\n",
    "    if i == 5:\n",
    "        break\n",
    "    i += 1"
   ]
  },
  {
   "cell_type": "code",
   "execution_count": null,
   "id": "02c1a6b8",
   "metadata": {},
   "outputs": [],
   "source": []
  },
  {
   "cell_type": "code",
   "execution_count": null,
   "id": "84b21b7a",
   "metadata": {},
   "outputs": [],
   "source": []
  }
 ],
 "metadata": {
  "kernelspec": {
   "display_name": "Python 3",
   "language": "python",
   "name": "python3"
  },
  "language_info": {
   "codemirror_mode": {
    "name": "ipython",
    "version": 3
   },
   "file_extension": ".py",
   "mimetype": "text/x-python",
   "name": "python",
   "nbconvert_exporter": "python",
   "pygments_lexer": "ipython3",
   "version": "3.8.8"
  }
 },
 "nbformat": 4,
 "nbformat_minor": 5
}
