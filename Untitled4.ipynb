{
 "cells": [
  {
   "cell_type": "code",
   "execution_count": 14,
   "id": "a2ddea4f",
   "metadata": {},
   "outputs": [
    {
     "name": "stdout",
     "output_type": "stream",
     "text": [
      "3\n",
      "10\n"
     ]
    }
   ],
   "source": [
    "def anything(a, b):\n",
    "    print(a + b)\n",
    "anything(1, 2)\n",
    "anything(8, 2)"
   ]
  },
  {
   "cell_type": "code",
   "execution_count": 18,
   "id": "230471f8",
   "metadata": {},
   "outputs": [
    {
     "name": "stdout",
     "output_type": "stream",
     "text": [
      "7\n",
      "10\n",
      "2.5\n",
      "3\n"
     ]
    }
   ],
   "source": [
    "def anything(a, b):\n",
    "    print(a + b)\n",
    "    print(a * b)\n",
    "    print(a / b)\n",
    "    print(a - b)\n",
    "anything(5, 2)"
   ]
  },
  {
   "cell_type": "code",
   "execution_count": 20,
   "id": "a1a08418",
   "metadata": {},
   "outputs": [
    {
     "name": "stdout",
     "output_type": "stream",
     "text": [
      "7 10 2.5 3\n",
      "12 20 5.0 8\n"
     ]
    }
   ],
   "source": [
    "def anything(a, b):\n",
    "    print(a + b, a * b, a / b, a - b)\n",
    "anything(5, 2)\n",
    "anything(10, 2)"
   ]
  },
  {
   "cell_type": "code",
   "execution_count": 1,
   "id": "9ab45626",
   "metadata": {},
   "outputs": [
    {
     "name": "stdout",
     "output_type": "stream",
     "text": [
      "snack with seasame\n"
     ]
    }
   ],
   "source": [
    "def nut():\n",
    "    word = \"snack with seasame\"\n",
    "    return word\n",
    "print(nut())"
   ]
  },
  {
   "cell_type": "code",
   "execution_count": 2,
   "id": "9356b8b1",
   "metadata": {},
   "outputs": [
    {
     "data": {
      "text/plain": [
       "6"
      ]
     },
     "execution_count": 2,
     "metadata": {},
     "output_type": "execute_result"
    }
   ],
   "source": [
    "def add(a, b, c):\n",
    "    return a + b + c\n",
    "add(1, 2, 3)"
   ]
  },
  {
   "cell_type": "code",
   "execution_count": 4,
   "id": "af03da03",
   "metadata": {},
   "outputs": [
    {
     "name": "stdout",
     "output_type": "stream",
     "text": [
      "11\n"
     ]
    }
   ],
   "source": [
    "addition = add(2,3,6)\n",
    "print(addition)"
   ]
  },
  {
   "cell_type": "markdown",
   "id": "4d3057c7",
   "metadata": {},
   "source": [
    "# Length of Number\n"
   ]
  },
  {
   "cell_type": "code",
   "execution_count": 11,
   "id": "da4aeb8d",
   "metadata": {},
   "outputs": [
    {
     "name": "stdout",
     "output_type": "stream",
     "text": [
      "1\n",
      "4\n",
      "9\n"
     ]
    }
   ],
   "source": [
    "def lenght_of_number(number):\n",
    "    counter = 0\n",
    "    for x in str(number):\n",
    "        counter += 1\n",
    "    return counter\n",
    "print(lenght_of_number(2))\n",
    "print(lenght_of_number(2555))\n",
    "print(lenght_of_number(255555555))"
   ]
  }
 ],
 "metadata": {
  "kernelspec": {
   "display_name": "Python 3",
   "language": "python",
   "name": "python3"
  },
  "language_info": {
   "codemirror_mode": {
    "name": "ipython",
    "version": 3
   },
   "file_extension": ".py",
   "mimetype": "text/x-python",
   "name": "python",
   "nbconvert_exporter": "python",
   "pygments_lexer": "ipython3",
   "version": "3.8.8"
  }
 },
 "nbformat": 4,
 "nbformat_minor": 5
}
