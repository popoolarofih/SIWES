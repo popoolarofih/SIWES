{
 "cells": [
  {
   "cell_type": "code",
   "execution_count": null,
   "id": "27da30cd",
   "metadata": {},
   "outputs": [],
   "source": [
    "secret_number =  10\n",
    "number = int(input(\"Guess a number: \")\n"
   ]
  },
  {
   "cell_type": "code",
   "execution_count": null,
   "id": "4b6a9b7a",
   "metadata": {},
   "outputs": [],
   "source": [
    "if number == 10:\n",
    "    if number < 10:\n",
    "        print(\"print you are correct\")\n",
    "else:\n",
    "    print(\"print you are not correct\")\n",
    " "
   ]
  },
  {
   "cell_type": "code",
   "execution_count": null,
   "id": "5fbbd2a2",
   "metadata": {},
   "outputs": [],
   "source": []
  },
  {
   "cell_type": "code",
   "execution_count": null,
   "id": "1b9349c2",
   "metadata": {},
   "outputs": [],
   "source": []
  },
  {
   "cell_type": "code",
   "execution_count": null,
   "id": "eb69bce4",
   "metadata": {},
   "outputs": [],
   "source": []
  }
 ],
 "metadata": {
  "kernelspec": {
   "display_name": "Python 3",
   "language": "python",
   "name": "python3"
  },
  "language_info": {
   "codemirror_mode": {
    "name": "ipython",
    "version": 3
   },
   "file_extension": ".py",
   "mimetype": "text/x-python",
   "name": "python",
   "nbconvert_exporter": "python",
   "pygments_lexer": "ipython3",
   "version": "3.8.8"
  }
 },
 "nbformat": 4,
 "nbformat_minor": 5
}
