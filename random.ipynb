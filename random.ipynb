{
 "cells": [
  {
   "cell_type": "code",
   "execution_count": null,
   "id": "3436eb1f",
   "metadata": {},
   "outputs": [
    {
     "name": "stdout",
     "output_type": "stream",
     "text": [
      "Welcome to this game :)\n",
      "Rearrange the words correctly \n",
      "\n"
     ]
    }
   ],
   "source": [
    "import random\n",
    "word = \"Something\"\n",
    "def scatter_word(word):\n",
    "    scatter_word = \"\"\n",
    "    memo = \"\"\n",
    "    while len(scatter_word) < len(word):\n",
    "        rand_word = random.choice(word)\n",
    "        if rand_word in memo:\n",
    "            continue\n",
    "        memo += rand_word\n",
    "        scatter_word += rand_word\n",
    "    return scatter_word\n",
    "print(\"Welcome to this game :)\")\n",
    "print(\"Rearrange the words correctly \\n\")\n",
    "user_input = input(f'{scatter_word}: ')\n",
    "if user_input == word:\n",
    "    print(\"Congratulations!!! :) you are a Genius!\")\n",
    "else: \n",
    "    print(\"You Suck! :(\")"
   ]
  },
  {
   "cell_type": "code",
   "execution_count": null,
   "id": "248c9ae0",
   "metadata": {},
   "outputs": [],
   "source": [
    "#Dice Rolling\n",
    "import random\n",
    "min = 1\n",
    "max = 6\n",
    "roll = \"Yes\"\n",
    "while roll == \"Yes\":\n",
    "    print (random.randint(min, max))\n",
    "    break"
   ]
  }
 ],
 "metadata": {
  "kernelspec": {
   "display_name": "Python 3",
   "language": "python",
   "name": "python3"
  },
  "language_info": {
   "codemirror_mode": {
    "name": "ipython",
    "version": 3
   },
   "file_extension": ".py",
   "mimetype": "text/x-python",
   "name": "python",
   "nbconvert_exporter": "python",
   "pygments_lexer": "ipython3",
   "version": "3.8.8"
  }
 },
 "nbformat": 4,
 "nbformat_minor": 5
}
