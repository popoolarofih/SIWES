{
 "cells": [
  {
   "cell_type": "code",
   "execution_count": 10,
   "id": "17d05dc2",
   "metadata": {},
   "outputs": [
    {
     "name": "stdout",
     "output_type": "stream",
     "text": [
      "ford\n",
      "1986\n",
      "{'brand': 'ford', 'model': 'mustang', 'year': 1986, 'is_new': True, 'feature': ['blue', 'v8', 170.121, 5], 'seller details': {'seller name': 'uswat', 'seller_phone': 806565455}}\n",
      "6\n",
      "ford\n",
      "brand\n",
      "mustang\n",
      "model\n",
      "1986\n",
      "year\n",
      "True\n",
      "is_new\n",
      "['blue', 'v8', 170.121, 5]\n",
      "feature\n",
      "{'seller name': 'uswat', 'seller_phone': 806565455}\n",
      "seller details\n"
     ]
    }
   ],
   "source": [
    "thisdict = {\"brand\": \"ford\",\n",
    "           \"model\": \"mustang\",\n",
    "           \"year\": 1986,\n",
    "           \"is_new\": True,\n",
    "           \"feature\": ['blue', 'v8', 170.121, 5],\n",
    "           \"seller details\": {\"seller name\": \"uswat\", \"seller_phone\": 806565455},\n",
    "           }\n",
    "print(thisdict[\"brand\"])\n",
    "print(thisdict[\"year\"])\n",
    "print(thisdict)\n",
    "print(len(thisdict))\n",
    "for i in thisdict:\n",
    "    print(thisdict[i])\n",
    "    print(i)"
   ]
  },
  {
   "cell_type": "code",
   "execution_count": 13,
   "id": "64b61c19",
   "metadata": {},
   "outputs": [
    {
     "name": "stdout",
     "output_type": "stream",
     "text": [
      "Enter your username: user01\n",
      "Enter your password: 22198rofih0\n",
      "login successful\n"
     ]
    }
   ],
   "source": [
    "login_details = {\"username\": \"user01\",\n",
    "                \"password\": \"22198rofih0\"}\n",
    "user_name = input(\"Enter your username: \")\n",
    "pass_word = input(\"Enter your password: \")\n",
    "if user_name == login_details[\"username\"] and pass_word == login_details[\"password\"]:\n",
    "    print(\"login successful\")\n",
    "else: \n",
    "    print(\"incorrect username or password\")"
   ]
  },
  {
   "cell_type": "code",
   "execution_count": 16,
   "id": "5c3605cd",
   "metadata": {},
   "outputs": [
    {
     "name": "stdout",
     "output_type": "stream",
     "text": [
      "welcome to my App\n",
      "Register Below\n",
      "\n",
      "username: popoola\n",
      "password: 22198rofih\n",
      "{'username': 'popoola', 'password': '22198rofih'}\n"
     ]
    }
   ],
   "source": [
    "login_details = {}\n",
    "print(\"welcome to my App\\nRegister Below\\n\")\n",
    "login_details[\"username\"] = input(\"username: \")\n",
    "login_details[\"password\"]  = input(\"password: \")\n",
    "print(login_details)\n",
    "#print(\"\\nThanks for registering\\nLogin to continue\\n\")\n",
    "#user_name = input(\"Enter your username: \")\n",
    "#pass_word = input(\"Enter your password: \")\n",
    "#if user_name == login_details[\"username\"] and pass_word == login_details[\"password\"]:\n",
    " #   print(\"login successful\")\n",
    "#else: \n",
    " #   print(\"incorrect username or password\")"
   ]
  },
  {
   "cell_type": "code",
   "execution_count": 2,
   "id": "df2288a8",
   "metadata": {},
   "outputs": [
    {
     "name": "stdout",
     "output_type": "stream",
     "text": [
      "Welcome to mySchool\n",
      "Register below\n",
      "\n",
      "Fullname: popoola rofih abiola\n",
      "Matric no: 389\n",
      "Age: 18\n",
      "Level: ND1\n",
      "sex: male\n",
      "G.P: 3.8\n",
      "Course: computer science\n",
      "{'Fullname': 'popoola rofih abiola', 'Matric no': 389, 'Age': 18, 'Level': 'ND1', 'sex': 'male', 'G.P': 3.8, 'Course': 'computer science'}\n"
     ]
    }
   ],
   "source": [
    "bio_data_details = {}\n",
    "print(\"Welcome to mySchool\\nRegister below\\n\")\n",
    "bio_data_details[\"Fullname\"] = input(\"Fullname: \")\n",
    "bio_data_details[\"Matric no\"] = int(input(\"Matric no: \"))\n",
    "bio_data_details[\"Age\"] = int(input(\"Age: \"))\n",
    "bio_data_details[\"Level\"] = input(\"Level: \")\n",
    "bio_data_details[\"sex\"] = input(\"sex: \")\n",
    "bio_data_details[\"G.P\"] = float(input(\"G.P: \"))\n",
    "bio_data_details[\"Course\"] = input(\"Course: \")\n",
    "print(bio_data_details)\n"
   ]
  },
  {
   "cell_type": "code",
   "execution_count": 2,
   "id": "b1e2462c",
   "metadata": {},
   "outputs": [
    {
     "name": "stdout",
     "output_type": "stream",
     "text": [
      "Welcome to my chat bot!\n",
      "Pres [q] to quit\n",
      "HELLO FRIEND! :) \n",
      "you: I AM LONELY AND SINGLE\n",
      "Bot: Why are you single\n",
      "you: Q\n",
      "Thanks for chatting with me\n"
     ]
    }
   ],
   "source": [
    "#Chatbot with dictionaries\n",
    "bot_dict = {\"how are you\": \"I am fine :) How are you too?\",\n",
    "           \"weather\": \"It is raining today :( please stay inside\",\n",
    "           \"love\": \"I love you 3000\",\n",
    "           \"school\": \"What is the name of your school\",\n",
    "           \"name\": \"What is your name\",\n",
    "           \"single\" : \"Why are you single\"}\n",
    "print(\"Welcome to my chat bot!\\nPres [q] to quit\")\n",
    "print(\"HELLO FRIEND! :) \")\n",
    "while True:\n",
    "    u_input = input(\"you: \").lower()\n",
    "    if u_input == \"q\":\n",
    "        break\n",
    "    #for i in bot_dict:\n",
    "       # if i in u_input:\n",
    "        #    print(f'Bot: {bot_dict[i]}')\n",
    "         #   continue\n",
    "    bot_reply = [bot_dict[i] for i in bot_dict if i in u_input] \n",
    "    if len(bot_reply) > 0:\n",
    "        print(f'Bot: {bot_reply[0]}')\n",
    "        continue\n",
    "    print(\"Bot: sorry :( i have no reply for you\")\n",
    "        \n",
    "print(\"Thanks for chatting with me\")"
   ]
  },
  {
   "cell_type": "code",
   "execution_count": 10,
   "id": "9aa81332",
   "metadata": {},
   "outputs": [
    {
     "name": "stdout",
     "output_type": "stream",
     "text": [
      "Enter btw 1 - 5(in words) to place an order: one\n",
      "Amala only\n",
      "Do you still want to order more food?/ Enter YES or NO: YES\n"
     ]
    },
    {
     "ename": "SyntaxError",
     "evalue": "'continue' not properly in loop (<ipython-input-10-0e7f98a9beb4>, line 27)",
     "output_type": "error",
     "traceback": [
      "\u001b[1;36m  File \u001b[1;32m\"<ipython-input-10-0e7f98a9beb4>\"\u001b[1;36m, line \u001b[1;32m27\u001b[0m\n\u001b[1;33m    continue\u001b[0m\n\u001b[1;37m    ^\u001b[0m\n\u001b[1;31mSyntaxError\u001b[0m\u001b[1;31m:\u001b[0m 'continue' not properly in loop\n"
     ]
    }
   ],
   "source": [
    "menu = {\"one\": \"Amala only\", \n",
    "       \"two\": \"Amala and Ewedu\",\n",
    "       \"three\": \"Amala and Ewedu with Gberi\",\n",
    "       \"four\": \"Amala and Egusi\",\n",
    "       \"five\": \"Amala and Efo\"}\n",
    "while True:\n",
    "    order = input(\"Enter btw 1 - 5(in words) to place an order: \")\n",
    "    if order == \"one\":\n",
    "        print(menu[\"one\"])\n",
    "        break\n",
    "    elif order == \"two\":\n",
    "        print(menu[\"two\"])\n",
    "        break\n",
    "    elif order == \"three\":\n",
    "        print(menu[\"three\"])\n",
    "        break\n",
    "    elif order == \"four\":\n",
    "        print(menu[\"four\"])\n",
    "        break\n",
    "    elif order == \"five\":\n",
    "        print(menu[\"five\"])\n",
    "        break\n",
    "    else:\n",
    "        print(\"we do not have that on the menu\")\n",
    "more = input(\"Do you still want to order more food?/ Enter YES or NO: \")\n",
    "if more == \"YES\":\n",
    "    continue\n",
    "order = input(\"Enter btw 1 - 5(in words) to place an order: \")"
   ]
  },
  {
   "cell_type": "code",
   "execution_count": 11,
   "id": "69959aed",
   "metadata": {},
   "outputs": [
    {
     "ename": "SyntaxError",
     "evalue": "invalid syntax (<ipython-input-11-2a411c454a70>, line 40)",
     "output_type": "error",
     "traceback": [
      "\u001b[1;36m  File \u001b[1;32m\"<ipython-input-11-2a411c454a70>\"\u001b[1;36m, line \u001b[1;32m40\u001b[0m\n\u001b[1;33m    elif server == 2:\u001b[0m\n\u001b[1;37m    ^\u001b[0m\n\u001b[1;31mSyntaxError\u001b[0m\u001b[1;31m:\u001b[0m invalid syntax\n"
     ]
    }
   ],
   "source": [
    "login_details = {}\n",
    "print(\"welcome to my RCCG Restaurant\\nRegister Below\\n\")\n",
    "login_details[\"username\"] = input(\"username: \")\n",
    "login_details[\"password\"]  = input(\"password: \")\n",
    "print(login_details)\n",
    "print(\"1. User order \\n2. Cancel order \\n3. Confirm menu \\n4. Checkout\")\n",
    "menu_list =[\n",
    "       {\"id\": 1, \"name\":\"1. Amala only\",\"price\":800,\"#\":\"Naira\"},\n",
    "       {\"id\": 2, \"name\":\"2. Amala and Ewedu\", \"price\": 500,\"#\":\"Naira\"},\n",
    "       {\"id\": 3, \"name\":\"3. Amala and Ewedu with Gberi\", \"price\": 500,\"#\":\"Naira\"},\n",
    "       {\"id\": 4, \"name\":\"4. Amala and Egusi\", \"price\": 800,\"#\":\"Naira\"},\n",
    "       {\"id\": 5, \"name\":\"5. White Rice\",\"price\":500,\"#\":\"Naira\"},\n",
    "       {\"id\": 6, \"name\":\"6. Fried Rice only\",\"price\":500,\"#\":\"Naira\"},\n",
    "       {\"id\": 7, \"name\":\"7. Jollof Rice only\",\"price\":500,\"#\":\"Naira\"},\n",
    "       {\"id\": 8, \"name\":\"8. Fried Rice and Jollof Rice\",\"price\":600,\"#\":\"Naira\"},\n",
    "       {\"id\": 9, \"name\":\"9. Ghanian Jollof\",\"price\":500,\"#\":\"Naira\"}]\n",
    "Order_list = []\n",
    "print('Welcome to RCC Restaurant, ')\n",
    "print('Here is the menu for today:')\n",
    "for menu in menu_list:\n",
    "    print(menu.get('name'),menu.get('price'),menu.get('#'))\n",
    "while True:  \n",
    "    print('='*50)\n",
    "    server = int(input(\"Please select service:\"))\n",
    "    if server == 1:\n",
    "        menu_add = input(\"Please enter the dish name number or enter Y to end the order:\")\n",
    "        if menu_add.upper() != 'Y':\n",
    "            for m in menu_list:\n",
    "                if m.get('id')== int(menu_add):\n",
    "                    Order_list.append(m)\n",
    "                    break\n",
    "    else:\n",
    "        print(' Ordered ')\n",
    "        total_price = 0\n",
    "        for order in Order_list:\n",
    "            print(order.get('name'),order.get('price'),order.get('#'))\n",
    "            total_price += int(order.get('price'))\n",
    "            print('Subtotal: {} Naira'.format(total_price))\n",
    "            break\n",
    "        elif server == 2:\n",
    "        menu_del = input(\"Please enter the name of the dish to be cancelled:\")\n",
    "        for order in Order_list:\n",
    "            if order.get('id') == int(menu_del):\n",
    "                Order_list.remove(order)\n",
    "\n",
    "        print('Ordered')\n",
    "        total_price = 0\n",
    "        for order in Order_list:\n",
    "            print(order.get('name'),order.get('price'),order.get('#'))\n",
    "            total_price += int(order.get('price'))\n",
    "        print('Subtotal: {} Naira'.format(total_price))\n",
    "    elif server == 3:\n",
    "        print(' Ordered ')\n",
    "        total_price = 0\n",
    "        for order in Order_list:\n",
    "            print(order.get('name'),order.get('price'),order.get('#'))\n",
    "            total_price += int(order.get('price'))\n",
    "        print('Subtotal: {} Naira'.format(total_price))         \n",
    "    elif server == 4:  \n",
    "        print('Your consumption menu')     \n",
    "        total_price = 0\n",
    "        for order in Order_list:\n",
    "            print(order.get('name'),order.get('price'),order.get('#'))\n",
    "            total_price += int(order.get('price'))\n",
    "    print('Total consumption: {} Naira'.format(total_price))\n",
    "    print(' Welcome you to visit again, goodbye!')\n",
    "    break\n",
    "\n"
   ]
  },
  {
   "cell_type": "code",
   "execution_count": null,
   "id": "529ddd1f",
   "metadata": {},
   "outputs": [],
   "source": [
    "login_details = {}\n",
    "print(\"===========welcome to my RCCG Restaurant===========\\n===========Register Below===========\\n\")\n",
    "login_details[\"username\"] = input(\"username: \")\n",
    "login_details[\"password\"]  = input(\"password: \")\n",
    "print(login_details)\n",
    "print(\"===========This is our menu list===========\")\n",
    "menu_list ={\n",
    "        \"one\":\"1. Amala only\",\"price\":800,\"Naira\":\"#\",\n",
    "        \"two\":\"2. Amala and Ewedu\", \"price\": 500,\"Naira\":\"#\",\n",
    "        \"three\":\"3. Amala and Ewedu with Gberi\", \"price\": 500,\"Naira\":\"#\",\n",
    "        \"four\":\"4. Amala and Egusi\", \"price\": 800,\"Naira\":\"#\",\n",
    "        \"five\":\"5. White Rice\",\"price\":500,\"Naira\":\"#\",\n",
    "        \"six\":\"6. Fried Rice only\",\"price\":500,\"Naira\":\"#\",\n",
    "        \"seven\":\"7. Jollof Rice only\",\"price\":500,\"Naira\":\"#\",\n",
    "        \"eight\":\"8. Fried Rice and Jollof Rice\",\"price\":600,\"Naira\":\"#\",\n",
    "        \"nine\":\"9. Ghanian Jollof\",\"price\":500,\"Naira\":\"#\",\n",
    "        \"ten\":\"10. Pasteries\",\"price\":500,\"Naira\":\"#\"}\n",
    "print(menu_list)\n",
    "order = int(input(\"ENTER A NUMBER TO ORDER: \"))\n",
    "while True:\n",
    "    if order == 1:\n",
    "        print(menu_list[\"one\"])\n",
    "        break\n",
    "    elif order == 2:\n",
    "        print(menu_list[\"two\"])\n",
    "        break\n",
    "    elif order == 3:\n",
    "        print(menu_list[\"three\"])\n",
    "        break    "
   ]
  },
  {
   "cell_type": "code",
   "execution_count": 1,
   "id": "340c5db9",
   "metadata": {},
   "outputs": [
    {
     "name": "stdout",
     "output_type": "stream",
     "text": [
      "===========welcome to my R.R.C.G Restaurant===========\n",
      "===========Register Below to be able to order food===========\n",
      "\n",
      "username: popoola\n",
      "password: 22198\n",
      "{'username': 'popoola', 'password': '22198'}\n",
      "===========This is our menu list===========\n",
      "{'one': '1. Amala only', 'two': '2. Amala and Ewedu with beef', 'three': '3. Amala and Ewedu with Gberi with beef and chicken', 'four': '4. Amala and Egusi with chicken', 'five': '5. White Rice with Chicken', 'six': '6. jollof rice only', 'seven': '7. fried rice only with chicken', 'eight': '8. jollof and fried rice chicken', 'nine': '9. Ghanian jollof rice with chicken', 'ten': '10. pasteries'}\n",
      "Please NOTE that #500 is the delivery fee\n",
      "ENTER A NUMBER TO ORDER: 8\n",
      "8. jollof and fried rice chicken\n",
      "The price is #1500 per plate\n",
      "ENTER YOUR ADDRESS: Apata GCI 5030\n",
      "Please Proceed to make your payment\n",
      "Do you want to Pay with Your Debit Card or Pay on Delivery\n",
      "Enter payment method: Debit card\n",
      "Add ------Credit or Debit Card+++++++\n",
      "Enter Card Number: 05778599\n",
      "YOUR FOOD WOULD GET YOU IN THE NEXT 20 MINUTES, IF NOT PLEASE CONTACT OUR CUSTOMER CARE 08034351010 OR 08065576241\n",
      "TO ORDER MORE FOOD PLEASE RESTART THE PROCESS AGAIN !!!!!!!\n",
      "========THANKS FOR EATING WITH US :)========\n"
     ]
    }
   ],
   "source": [
    "login_details = {}\n",
    "print(\"===========welcome to my R.R.C.G Restaurant===========\\n===========Register Below to be able to order food===========\\n\")\n",
    "login_details[\"username\"] = input(\"username: \")\n",
    "login_details[\"password\"]  = input(\"password: \")\n",
    "print(login_details)\n",
    "print(\"===========This is our menu list===========\")\n",
    "menu_list ={\n",
    "        \"one\":\"1. Amala only\",\n",
    "        \"two\":\"2. Amala and Ewedu with beef\", \n",
    "        \"three\":\"3. Amala and Ewedu with Gberi with beef and chicken\",\n",
    "        \"four\":\"4. Amala and Egusi with chicken\",\n",
    "        \"five\":\"5. White Rice with Chicken\",\n",
    "        \"six\":\"6. jollof rice only\",\n",
    "        \"seven\":\"7. fried rice only with chicken\",\n",
    "        \"eight\":\"8. jollof and fried rice chicken\",\n",
    "        \"nine\":\"9. Ghanian jollof rice with chicken\",\n",
    "        \"ten\":\"10. pasteries\"}\n",
    "print(menu_list)\n",
    "print(\"Please NOTE that #500 is the delivery fee\")\n",
    "order = int(input(\"ENTER A NUMBER TO ORDER: \"))\n",
    "while True:\n",
    "    if order == 1:\n",
    "        print(menu_list[\"one\"])\n",
    "        print(\"The price is #700\")\n",
    "        break\n",
    "    elif order == 2:\n",
    "        print(menu_list[\"two\"])\n",
    "        print(\"The price is #1500 per plate\")\n",
    "        break\n",
    "    elif order == 3:\n",
    "        print(menu_list[\"three\"])\n",
    "        print(\"The price is #1500 per plate\")\n",
    "        break\n",
    "    elif order == 4:\n",
    "        print(menu_list[\"four\"])\n",
    "        print(\"The price is #1500 per plate\")\n",
    "        break\n",
    "    elif order == 5:\n",
    "        print(menu_list[\"five\"])\n",
    "        print(\"The price is #500 per plate\")\n",
    "        break\n",
    "    elif order == 6:\n",
    "        print(menu_list[\"six\"])\n",
    "        print(\"The price is #1500 plate\")\n",
    "        break\n",
    "    elif order == 7:\n",
    "        print(menu_list[\"seven\"])\n",
    "        print(\"The price is #1500 per plate\")\n",
    "        break\n",
    "    elif order == 8:\n",
    "        print(menu_list[\"eight\"])\n",
    "        print(\"The price is #1500 per plate\")\n",
    "        break\n",
    "    elif order == 9:\n",
    "        print(menu_list[\"nine\"])\n",
    "        print(\"The price is #1500 per plate\")\n",
    "        break\n",
    "    elif order == 10:\n",
    "        print(menu_list[\"ten\"])\n",
    "        print(\"The price is #2500 per plate\")\n",
    "        break\n",
    "    else:\n",
    "        print(\"SORRY WE DO NOT HAVE THAT ON THE LIST\")\n",
    "        break\n",
    "Address = input(\"ENTER YOUR ADDRESS: \")\n",
    "print(\"Please Proceed to make your payment\")\n",
    "print(\"Do you want to Pay with Your Debit Card or Pay on Delivery\")\n",
    "payment = input(\"Enter payment method: \")\n",
    "if payment.upper() == \"DEBIT CARD\":\n",
    "    print(\"Add ------Credit or Debit Card+++++++\")\n",
    "    money = int(input(\"Enter Card Number: \"))\n",
    "elif payment.upper() == \"PAY ON DELIVERY\":\n",
    "    print(\"========PLEASE ENSURE YOU PAY TO THE DELIVERY MAN :) ========\")\n",
    "print(\"YOUR FOOD WOULD GET YOU IN THE NEXT 20 MINUTES, IF NOT PLEASE CONTACT OUR CUSTOMER CARE 08034351010 OR 08136071724\")\n",
    "print(\"TO ORDER MORE FOOD PLEASE RESTART THE PROCESS AGAIN !!!!!!!\")\n",
    "print(\"========THANKS FOR EATING WITH US :)========\")"
   ]
  }
 ],
 "metadata": {
  "kernelspec": {
   "display_name": "Python 3",
   "language": "python",
   "name": "python3"
  },
  "language_info": {
   "codemirror_mode": {
    "name": "ipython",
    "version": 3
   },
   "file_extension": ".py",
   "mimetype": "text/x-python",
   "name": "python",
   "nbconvert_exporter": "python",
   "pygments_lexer": "ipython3",
   "version": "3.8.8"
  }
 },
 "nbformat": 4,
 "nbformat_minor": 5
}
