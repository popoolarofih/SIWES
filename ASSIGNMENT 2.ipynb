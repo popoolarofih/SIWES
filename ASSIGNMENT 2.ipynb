{
 "cells": [
  {
   "cell_type": "markdown",
   "id": "711c58dc",
   "metadata": {},
   "source": [
    "# CAP LOCK DAY"
   ]
  },
  {
   "cell_type": "code",
   "execution_count": 12,
   "id": "3c89c6d3",
   "metadata": {},
   "outputs": [
    {
     "name": "stdout",
     "output_type": "stream",
     "text": [
      "capital letter!\n"
     ]
    }
   ],
   "source": [
    "def CAP_LOCK():\n",
    "    CAP = \"CAPITAL LETTER!\"\n",
    "    return CAP.lower()\n",
    "print(CAP_LOCK())"
   ]
  },
  {
   "cell_type": "markdown",
   "id": "9e2d030c",
   "metadata": {},
   "source": [
    "# Emphasise the word"
   ]
  },
  {
   "cell_type": "code",
   "execution_count": 28,
   "id": "6f061148",
   "metadata": {},
   "outputs": [
    {
     "name": "stdout",
     "output_type": "stream",
     "text": [
      "I Am A Boy And I Love Gaming\n"
     ]
    }
   ],
   "source": [
    "#without loop\n",
    "def emphasize():\n",
    "    tittle = \"i am a boy and i love gaming\"\n",
    "    return tittle.title()\n",
    "print(emphasize())"
   ]
  },
  {
   "cell_type": "code",
   "execution_count": 27,
   "id": "4b559f03",
   "metadata": {},
   "outputs": [
    {
     "name": "stdout",
     "output_type": "stream",
     "text": [
      "99 Blue Balloons Is Fun\n"
     ]
    }
   ],
   "source": [
    "#without loop\n",
    "def emphasize():\n",
    "    tittle_two = \"99 blue balloons is fun\"\n",
    "    return tittle_two.title()\n",
    "print(emphasize())"
   ]
  },
  {
   "cell_type": "code",
   "execution_count": 29,
   "id": "0e0b4ec8",
   "metadata": {},
   "outputs": [
    {
     "name": "stdout",
     "output_type": "stream",
     "text": [
      "I Am A Boy And I Love Gaming\n",
      "99 Blue Balloons Is Fun\n",
      "Plenty Money\n"
     ]
    }
   ],
   "source": [
    "#with loop\n",
    "def emphasize(tittle):\n",
    "    for x in str(tittle):\n",
    "        return tittle.title() \n",
    "print(emphasize('i am a boy and i love gaming'))\n",
    "print(emphasize('99 blue balloons is fun'))\n",
    "print(emphasize('PLENTY MONEY'))"
   ]
  },
  {
   "cell_type": "code",
   "execution_count": null,
   "id": "507e926f",
   "metadata": {},
   "outputs": [],
   "source": []
  },
  {
   "cell_type": "markdown",
   "id": "7f932fc2",
   "metadata": {},
   "source": [
    "# ADDING  TWO STRINGS NUMBERS"
   ]
  },
  {
   "cell_type": "code",
   "execution_count": 7,
   "id": "7650cf61",
   "metadata": {},
   "outputs": [
    {
     "name": "stdout",
     "output_type": "stream",
     "text": [
      "33\n"
     ]
    }
   ],
   "source": [
    "def number(number_one, number_two):\n",
    "    return int(number_one) + int(number_two)\n",
    "number_one = \"11\"\n",
    "number_two = \"22\"\n",
    "print(number(number_one, number_two))"
   ]
  },
  {
   "cell_type": "code",
   "execution_count": 16,
   "id": "2951fdab",
   "metadata": {},
   "outputs": [
    {
     "name": "stdout",
     "output_type": "stream",
     "text": [
      "44\n"
     ]
    }
   ],
   "source": [
    "def number(number_one, number_two):\n",
    "    return int(number_one) + int(number_two)\n",
    "number_one = \"22\"\n",
    "number_two = \"22\"\n",
    "if number_one == \"\":\n",
    "    print(\"invalid Operation\")\n",
    "if number_two == \"\":\n",
    "    print(\"invalid Operation\")\n",
    "print(number(number_one, number_two))"
   ]
  },
  {
   "cell_type": "code",
   "execution_count": null,
   "id": "88afa4f3",
   "metadata": {},
   "outputs": [],
   "source": []
  },
  {
   "cell_type": "markdown",
   "id": "9cebf5cc",
   "metadata": {},
   "source": [
    "# FIZZBUZZ"
   ]
  },
  {
   "cell_type": "code",
   "execution_count": 39,
   "id": "1994d7eb",
   "metadata": {},
   "outputs": [
    {
     "name": "stdout",
     "output_type": "stream",
     "text": [
      "FIZZ\n",
      "BUZZ\n",
      "FIZZBUZZ\n",
      "('3', '5')\n"
     ]
    }
   ],
   "source": [
    "def number(One,Two):\n",
    "    return str(One), str(Two)\n",
    "One = 3\n",
    "Two = 5\n",
    "if One == 3:\n",
    "    print(\"FIZZ\")\n",
    "if Two == 5:\n",
    "    print(\"BUZZ\")\n",
    "if One or Two == 3 or 5:\n",
    "    print(\"FIZZBUZZ\")\n",
    "print(number(One,Two))\n"
   ]
  }
 ],
 "metadata": {
  "kernelspec": {
   "display_name": "Python 3",
   "language": "python",
   "name": "python3"
  },
  "language_info": {
   "codemirror_mode": {
    "name": "ipython",
    "version": 3
   },
   "file_extension": ".py",
   "mimetype": "text/x-python",
   "name": "python",
   "nbconvert_exporter": "python",
   "pygments_lexer": "ipython3",
   "version": "3.8.8"
  }
 },
 "nbformat": 4,
 "nbformat_minor": 5
}
