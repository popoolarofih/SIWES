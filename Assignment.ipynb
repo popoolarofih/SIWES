{
 "cells": [
  {
   "cell_type": "markdown",
   "id": "3d6fc71e",
   "metadata": {},
   "source": [
    "# Age to days"
   ]
  },
  {
   "cell_type": "code",
   "execution_count": 27,
   "id": "47d236d4",
   "metadata": {},
   "outputs": [
    {
     "name": "stdout",
     "output_type": "stream",
     "text": [
      "ENTER YOUR AGE: 20\n"
     ]
    }
   ],
   "source": [
    "Age = int(input('ENTER YOUR AGE: '))"
   ]
  },
  {
   "cell_type": "code",
   "execution_count": 28,
   "id": "2c374396",
   "metadata": {},
   "outputs": [
    {
     "name": "stdout",
     "output_type": "stream",
     "text": [
      "20 to days is 7300\n"
     ]
    }
   ],
   "source": [
    "print(f'{Age} to days is {Age * 365}')"
   ]
  },
  {
   "cell_type": "markdown",
   "id": "354663c1",
   "metadata": {},
   "source": [
    "# Return the remainder from two numbers"
   ]
  },
  {
   "cell_type": "code",
   "execution_count": 4,
   "id": "81826501",
   "metadata": {},
   "outputs": [],
   "source": [
    "a = 10\n",
    "b = 5"
   ]
  },
  {
   "cell_type": "code",
   "execution_count": 9,
   "id": "b02c082d",
   "metadata": {},
   "outputs": [
    {
     "name": "stdout",
     "output_type": "stream",
     "text": [
      "0\n"
     ]
    }
   ],
   "source": [
    "Remainder  = print(a % b)"
   ]
  },
  {
   "cell_type": "markdown",
   "id": "74b8839b",
   "metadata": {},
   "source": [
    "# Return the first elements on a list\n"
   ]
  },
  {
   "cell_type": "code",
   "execution_count": 2,
   "id": "bbbb9af1",
   "metadata": {},
   "outputs": [],
   "source": [
    "Element_List = [10, 20, 30, 50, 60]"
   ]
  },
  {
   "cell_type": "code",
   "execution_count": 3,
   "id": "95c7b4b9",
   "metadata": {},
   "outputs": [
    {
     "name": "stdout",
     "output_type": "stream",
     "text": [
      "10\n"
     ]
    }
   ],
   "source": [
    "print(Element_List[:1])"
   ]
  },
  {
   "cell_type": "markdown",
   "id": "51921355",
   "metadata": {},
   "source": [
    "# Farm Problem"
   ]
  },
  {
   "cell_type": "code",
   "execution_count": 14,
   "id": "c9ea253f",
   "metadata": {},
   "outputs": [],
   "source": [
    "Chickens = 2\n",
    "Cows = 4 \n",
    "Pigs = 4 "
   ]
  },
  {
   "cell_type": "code",
   "execution_count": 21,
   "id": "837f3946",
   "metadata": {},
   "outputs": [
    {
     "name": "stdout",
     "output_type": "stream",
     "text": [
      "10\n"
     ]
    }
   ],
   "source": [
    "animals = print(Chickens + Cows + Pigs)"
   ]
  },
  {
   "cell_type": "markdown",
   "id": "0291c2db",
   "metadata": {},
   "source": [
    "# Return the next number from the integer passed"
   ]
  },
  {
   "cell_type": "code",
   "execution_count": 25,
   "id": "e9d514ea",
   "metadata": {},
   "outputs": [],
   "source": [
    "a = 40"
   ]
  },
  {
   "cell_type": "code",
   "execution_count": 26,
   "id": "03068fcf",
   "metadata": {},
   "outputs": [
    {
     "name": "stdout",
     "output_type": "stream",
     "text": [
      "41\n"
     ]
    }
   ],
   "source": [
    "print(a + 1)"
   ]
  },
  {
   "cell_type": "code",
   "execution_count": null,
   "id": "7e4a36cb",
   "metadata": {},
   "outputs": [],
   "source": []
  },
  {
   "cell_type": "code",
   "execution_count": null,
   "id": "3456c7bc",
   "metadata": {},
   "outputs": [],
   "source": []
  }
 ],
 "metadata": {
  "kernelspec": {
   "display_name": "Python 3",
   "language": "python",
   "name": "python3"
  },
  "language_info": {
   "codemirror_mode": {
    "name": "ipython",
    "version": 3
   },
   "file_extension": ".py",
   "mimetype": "text/x-python",
   "name": "python",
   "nbconvert_exporter": "python",
   "pygments_lexer": "ipython3",
   "version": "3.8.8"
  }
 },
 "nbformat": 4,
 "nbformat_minor": 5
}
