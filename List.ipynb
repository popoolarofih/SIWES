{
 "cells": [
  {
   "cell_type": "code",
   "execution_count": 1,
   "id": "bc10f995",
   "metadata": {},
   "outputs": [],
   "source": [
    "#Python List\n",
    "#In python, list can be like an array\n",
    "#List Operations\n",
    "# -> append, remove, copy, extend, index, reverse, sort, pop, loop and search through a list.\n",
    "# How to declare a list\n",
    "#Note: in Python list can store the values of multipe data type"
   ]
  },
  {
   "cell_type": "code",
   "execution_count": 2,
   "id": "4dde8519",
   "metadata": {},
   "outputs": [],
   "source": [
    "my_list = [1, 40, 30, 80, 40, 5.65, 3.412, \"Rofih\", False]"
   ]
  },
  {
   "cell_type": "code",
   "execution_count": null,
   "id": "9c420b64",
   "metadata": {},
   "outputs": [],
   "source": []
  },
  {
   "cell_type": "code",
   "execution_count": 6,
   "id": "7a3a6702",
   "metadata": {},
   "outputs": [
    {
     "name": "stdout",
     "output_type": "stream",
     "text": [
      "1\n"
     ]
    }
   ],
   "source": [
    "print(my_list.count(\"Rofih\"))"
   ]
  },
  {
   "cell_type": "code",
   "execution_count": 7,
   "id": "b4ffa8b3",
   "metadata": {},
   "outputs": [
    {
     "name": "stdout",
     "output_type": "stream",
     "text": [
      "9\n"
     ]
    }
   ],
   "source": [
    "print(len(my_list))"
   ]
  },
  {
   "cell_type": "code",
   "execution_count": 16,
   "id": "e79a15e8",
   "metadata": {},
   "outputs": [],
   "source": [
    "my_list.append(\"name\")"
   ]
  },
  {
   "cell_type": "code",
   "execution_count": 17,
   "id": "536eb284",
   "metadata": {},
   "outputs": [
    {
     "name": "stdout",
     "output_type": "stream",
     "text": [
      "[1, 40, 30, 80, 40, 5.65, 'Rofih', False, 'name', 'name']\n"
     ]
    }
   ],
   "source": [
    "print(my_list)"
   ]
  },
  {
   "cell_type": "code",
   "execution_count": 11,
   "id": "5ad2f7b6",
   "metadata": {},
   "outputs": [],
   "source": [
    "my_list.remove(3.412)"
   ]
  },
  {
   "cell_type": "code",
   "execution_count": 25,
   "id": "210d5117",
   "metadata": {},
   "outputs": [
    {
     "name": "stdout",
     "output_type": "stream",
     "text": [
      "[1, 40, 40, 5.65, False, 'name']\n"
     ]
    }
   ],
   "source": [
    "print(my_list)"
   ]
  },
  {
   "cell_type": "code",
   "execution_count": 28,
   "id": "e09f649d",
   "metadata": {},
   "outputs": [
    {
     "data": {
      "text/plain": [
       "40"
      ]
     },
     "execution_count": 28,
     "metadata": {},
     "output_type": "execute_result"
    }
   ],
   "source": [
    "my_list.pop(2)"
   ]
  },
  {
   "cell_type": "code",
   "execution_count": 29,
   "id": "1c8463a1",
   "metadata": {},
   "outputs": [],
   "source": [
    "my_list.insert(1, \"40\")"
   ]
  },
  {
   "cell_type": "code",
   "execution_count": 30,
   "id": "91635798",
   "metadata": {},
   "outputs": [
    {
     "name": "stdout",
     "output_type": "stream",
     "text": [
      "[1, '40', 40, 5.65, 'name']\n"
     ]
    }
   ],
   "source": [
    "print(my_list)"
   ]
  },
  {
   "cell_type": "code",
   "execution_count": 31,
   "id": "e7a157a7",
   "metadata": {},
   "outputs": [],
   "source": [
    "my_list[2] = 430"
   ]
  },
  {
   "cell_type": "code",
   "execution_count": 32,
   "id": "cd2d8f5a",
   "metadata": {},
   "outputs": [
    {
     "name": "stdout",
     "output_type": "stream",
     "text": [
      "[1, '40', 430, 5.65, 'name']\n"
     ]
    }
   ],
   "source": [
    "print(my_list)"
   ]
  },
  {
   "cell_type": "code",
   "execution_count": 34,
   "id": "428c25cb",
   "metadata": {},
   "outputs": [],
   "source": [
    "new_list = my_list"
   ]
  },
  {
   "cell_type": "code",
   "execution_count": 35,
   "id": "9e87ae10",
   "metadata": {},
   "outputs": [
    {
     "name": "stdout",
     "output_type": "stream",
     "text": [
      "[1, '40', 430, 5.65, 'name']\n"
     ]
    }
   ],
   "source": [
    "print(new_list)"
   ]
  },
  {
   "cell_type": "code",
   "execution_count": 36,
   "id": "d50ad0f2",
   "metadata": {},
   "outputs": [],
   "source": [
    "new_list = my_list.copy()"
   ]
  },
  {
   "cell_type": "code",
   "execution_count": 37,
   "id": "5789327f",
   "metadata": {},
   "outputs": [
    {
     "name": "stdout",
     "output_type": "stream",
     "text": [
      "[1, '40', 430, 5.65, 'name']\n"
     ]
    }
   ],
   "source": [
    "print(new_list)"
   ]
  },
  {
   "cell_type": "code",
   "execution_count": 38,
   "id": "6c2b5bf0",
   "metadata": {},
   "outputs": [],
   "source": [
    "new_list.reverse()"
   ]
  },
  {
   "cell_type": "code",
   "execution_count": 39,
   "id": "b9341ce5",
   "metadata": {},
   "outputs": [
    {
     "name": "stdout",
     "output_type": "stream",
     "text": [
      "['name', 5.65, 430, '40', 1]\n"
     ]
    }
   ],
   "source": [
    "print(new_list)"
   ]
  },
  {
   "cell_type": "code",
   "execution_count": 42,
   "id": "cff1bd9f",
   "metadata": {},
   "outputs": [],
   "source": [
    "new_list.extend([True, \"Big\", 89])"
   ]
  },
  {
   "cell_type": "code",
   "execution_count": 43,
   "id": "95a46682",
   "metadata": {},
   "outputs": [
    {
     "name": "stdout",
     "output_type": "stream",
     "text": [
      "['name', 5.65, 430, '40', 1, True, 'Big', 89, True, 'Big', 89]\n"
     ]
    }
   ],
   "source": [
    "print(new_list)"
   ]
  },
  {
   "cell_type": "code",
   "execution_count": 44,
   "id": "0d0f2cd0",
   "metadata": {},
   "outputs": [],
   "source": [
    "names = ['Mubarak','Raphael', 'gift', 'usman']"
   ]
  },
  {
   "cell_type": "code",
   "execution_count": 46,
   "id": "7d466b64",
   "metadata": {},
   "outputs": [
    {
     "name": "stdout",
     "output_type": "stream",
     "text": [
      "['Mubarak', 'Raphael', 'gift']\n"
     ]
    }
   ],
   "source": [
    "print(names[0:3])"
   ]
  },
  {
   "cell_type": "code",
   "execution_count": 47,
   "id": "8a5bba01",
   "metadata": {},
   "outputs": [
    {
     "name": "stdout",
     "output_type": "stream",
     "text": [
      "['Mubarak', 'Raphael', 'gift']\n"
     ]
    }
   ],
   "source": [
    "print(names[:3])"
   ]
  },
  {
   "cell_type": "code",
   "execution_count": 48,
   "id": "18e754f4",
   "metadata": {},
   "outputs": [
    {
     "name": "stdout",
     "output_type": "stream",
     "text": [
      "['usman']\n"
     ]
    }
   ],
   "source": [
    "print(names[3:])"
   ]
  },
  {
   "cell_type": "code",
   "execution_count": 49,
   "id": "61327a17",
   "metadata": {},
   "outputs": [
    {
     "name": "stdout",
     "output_type": "stream",
     "text": [
      "['Mubarak', 'Raphael', 'gift', 'usman']\n"
     ]
    }
   ],
   "source": [
    "print(names[:])"
   ]
  },
  {
   "cell_type": "code",
   "execution_count": 50,
   "id": "950248bb",
   "metadata": {},
   "outputs": [
    {
     "name": "stdout",
     "output_type": "stream",
     "text": [
      "['Mubarak']\n"
     ]
    }
   ],
   "source": [
    "print(names[:-3])"
   ]
  },
  {
   "cell_type": "code",
   "execution_count": 69,
   "id": "41cd6dfc",
   "metadata": {},
   "outputs": [
    {
     "name": "stdout",
     "output_type": "stream",
     "text": [
      "['usman', 'gift', 'Raphael', 'Mubarak']\n"
     ]
    }
   ],
   "source": [
    "print(names[::-1])"
   ]
  },
  {
   "cell_type": "code",
   "execution_count": 71,
   "id": "ef259e99",
   "metadata": {},
   "outputs": [],
   "source": [
    "i = 0"
   ]
  },
  {
   "cell_type": "code",
   "execution_count": 72,
   "id": "2011bd28",
   "metadata": {},
   "outputs": [
    {
     "name": "stdout",
     "output_type": "stream",
     "text": [
      "0\n",
      "1\n",
      "2\n",
      "3\n",
      "4\n",
      "5\n"
     ]
    }
   ],
   "source": [
    "while(i < 10):\n",
    "    print(i)\n",
    "    if i == 5:\n",
    "        break\n",
    "    i += 1"
   ]
  },
  {
   "cell_type": "code",
   "execution_count": 73,
   "id": "68c5f0fd",
   "metadata": {},
   "outputs": [
    {
     "ename": "SyntaxError",
     "evalue": "invalid syntax (<ipython-input-73-1da2a7a945e2>, line 1)",
     "output_type": "error",
     "traceback": [
      "\u001b[1;36m  File \u001b[1;32m\"<ipython-input-73-1da2a7a945e2>\"\u001b[1;36m, line \u001b[1;32m1\u001b[0m\n\u001b[1;33m    else:\u001b[0m\n\u001b[1;37m    ^\u001b[0m\n\u001b[1;31mSyntaxError\u001b[0m\u001b[1;31m:\u001b[0m invalid syntax\n"
     ]
    }
   ],
   "source": []
  },
  {
   "cell_type": "code",
   "execution_count": null,
   "id": "bcf59aec",
   "metadata": {},
   "outputs": [],
   "source": []
  }
 ],
 "metadata": {
  "kernelspec": {
   "display_name": "Python 3",
   "language": "python",
   "name": "python3"
  },
  "language_info": {
   "codemirror_mode": {
    "name": "ipython",
    "version": 3
   },
   "file_extension": ".py",
   "mimetype": "text/x-python",
   "name": "python",
   "nbconvert_exporter": "python",
   "pygments_lexer": "ipython3",
   "version": "3.8.8"
  }
 },
 "nbformat": 4,
 "nbformat_minor": 5
}
