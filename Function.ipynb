{
 "cells": [
  {
   "cell_type": "code",
   "execution_count": 14,
   "id": "a2ddea4f",
   "metadata": {},
   "outputs": [
    {
     "name": "stdout",
     "output_type": "stream",
     "text": [
      "3\n",
      "10\n"
     ]
    }
   ],
   "source": [
    "def anything(a, b):\n",
    "    print(a + b)\n",
    "anything(1, 2)\n",
    "anything(8, 2)"
   ]
  },
  {
   "cell_type": "code",
   "execution_count": null,
   "id": "84048594",
   "metadata": {},
   "outputs": [
    {
     "name": "stdout",
     "output_type": "stream",
     "text": [
      "Welcome to mySchool\n",
      "Register below\n",
      "\n"
     ]
    }
   ],
   "source": [
    "bio_data_details = {}\n",
    "print(\"Welcome to mySchool\\nRegister below\\n\")\n",
    "bio_data_details[\"Fullname\"] = input(\"Fullname: \")\n",
    "bio_data_details[\"Matric no\"] = int(input(\"Matric no: \"))\n",
    "bio_data_details[\"Age\"] = int(input(\"Age: \"))\n",
    "bio_data_details[\"Level\"] = input(\"Level: \")\n",
    "bio_data_details[\"sex\"] = input(\"sex: \")\n",
    "bio_data_details[\"G.P\"] = float(input(\"G.P: \"))\n",
    "bio_data_details[\"Course\"] = input(\"Course: \")\n",
    "print(bio_data_details)"
   ]
  },
  {
   "cell_type": "code",
   "execution_count": 18,
   "id": "230471f8",
   "metadata": {},
   "outputs": [
    {
     "name": "stdout",
     "output_type": "stream",
     "text": [
      "7\n",
      "10\n",
      "2.5\n",
      "3\n"
     ]
    }
   ],
   "source": [
    "def anything(a, b):\n",
    "    print(a + b)\n",
    "    print(a * b)\n",
    "    print(a / b)\n",
    "    print(a - b)\n",
    "anything(5, 2)"
   ]
  },
  {
   "cell_type": "code",
   "execution_count": 20,
   "id": "a1a08418",
   "metadata": {},
   "outputs": [
    {
     "name": "stdout",
     "output_type": "stream",
     "text": [
      "7 10 2.5 3\n",
      "12 20 5.0 8\n"
     ]
    }
   ],
   "source": [
    "def anything(a, b):\n",
    "    print(a + b, a * b, a / b, a - b)\n",
    "anything(5, 2)\n",
    "anything(10, 2)"
   ]
  },
  {
   "cell_type": "code",
   "execution_count": 1,
   "id": "05fd830f",
   "metadata": {},
   "outputs": [
    {
     "name": "stdout",
     "output_type": "stream",
     "text": [
      "SNACK WITH SEASAME\n"
     ]
    }
   ],
   "source": [
    "def nut():\n",
    "    word = \"snack with seasame\"\n",
    "    return word\n",
    "print(nut())"
   ]
  },
  {
   "cell_type": "code",
   "execution_count": 2,
   "id": "9bc0068f",
   "metadata": {},
   "outputs": [
    {
     "data": {
      "text/plain": [
       "6"
      ]
     },
     "execution_count": 2,
     "metadata": {},
     "output_type": "execute_result"
    }
   ],
   "source": [
    "def add(a, b, c):\n",
    "    return a + b + c\n",
    "add(1, 2, 3)"
   ]
  },
  {
   "cell_type": "code",
   "execution_count": 4,
   "id": "58ac62fc",
   "metadata": {},
   "outputs": [
    {
     "name": "stdout",
     "output_type": "stream",
     "text": [
      "11\n"
     ]
    }
   ],
   "source": [
    "addition = add(2,3,6)\n",
    "print(addition)"
   ]
  },
  {
   "cell_type": "markdown",
   "id": "20c5f438",
   "metadata": {},
   "source": [
    "# Length of Number\n"
   ]
  },
  {
   "cell_type": "code",
   "execution_count": 11,
   "id": "547b138f",
   "metadata": {},
   "outputs": [
    {
     "name": "stdout",
     "output_type": "stream",
     "text": [
      "1\n",
      "4\n",
      "9\n"
     ]
    }
   ],
   "source": [
    "def lenght_of_number(number):\n",
    "    counter = 0\n",
    "    for x in str(number):\n",
    "        counter += 1\n",
    "    return counter\n",
    "print(lenght_of_number(2))\n",
    "print(lenght_of_number(2555))\n",
    "print(lenght_of_number(255555555))\n"
   ]
  },
  {
   "cell_type": "code",
   "execution_count": null,
   "id": "92ae2002",
   "metadata": {},
   "outputs": [],
   "source": []
  }
 ],
 "metadata": {
  "kernelspec": {
   "display_name": "Python 3",
   "language": "python",
   "name": "python3"
  },
  "language_info": {
   "codemirror_mode": {
    "name": "ipython",
    "version": 3
   },
   "file_extension": ".py",
   "mimetype": "text/x-python",
   "name": "python",
   "nbconvert_exporter": "python",
   "pygments_lexer": "ipython3",
   "version": "3.8.8"
  }
 },
 "nbformat": 4,
 "nbformat_minor": 5
}
