{
 "cells": [
  {
   "cell_type": "code",
   "execution_count": 17,
   "id": "9f45523c",
   "metadata": {},
   "outputs": [],
   "source": [
    "a = 10\n",
    "b = 5\n",
    "a,b = b,a"
   ]
  },
  {
   "cell_type": "code",
   "execution_count": 18,
   "id": "9b4adfec",
   "metadata": {},
   "outputs": [
    {
     "ename": "SyntaxError",
     "evalue": "invalid syntax (<ipython-input-18-35649dfef410>, line 1)",
     "output_type": "error",
     "traceback": [
      "\u001b[1;36m  File \u001b[1;32m\"<ipython-input-18-35649dfef410>\"\u001b[1;36m, line \u001b[1;32m1\u001b[0m\n\u001b[1;33m    if a = 10:\u001b[0m\n\u001b[1;37m         ^\u001b[0m\n\u001b[1;31mSyntaxError\u001b[0m\u001b[1;31m:\u001b[0m invalid syntax\n"
     ]
    }
   ],
   "source": [
    "if a = 10:\n",
    "    print a =5"
   ]
  },
  {
   "cell_type": "code",
   "execution_count": 10,
   "id": "865aa68e",
   "metadata": {},
   "outputs": [
    {
     "name": "stdout",
     "output_type": "stream",
     "text": [
      "b = 10\n",
      "a = 5\n"
     ]
    }
   ],
   "source": [
    "if b == 10:\n",
    "    print(\"a = 5\")\n",
    "else:\n",
    "    print(\"b = 10\")\n",
    "if a == 5:\n",
    "    print(\"b = 10\")\n",
    "else:\n",
    "    print(\"a = 5\")"
   ]
  },
  {
   "cell_type": "code",
   "execution_count": 11,
   "id": "a8b192f9",
   "metadata": {},
   "outputs": [
    {
     "name": "stdout",
     "output_type": "stream",
     "text": [
      "10\n"
     ]
    }
   ],
   "source": [
    "print(a)"
   ]
  },
  {
   "cell_type": "code",
   "execution_count": 13,
   "id": "9014d8e6",
   "metadata": {},
   "outputs": [
    {
     "name": "stdout",
     "output_type": "stream",
     "text": [
      "5\n"
     ]
    }
   ],
   "source": [
    "print(a)"
   ]
  },
  {
   "cell_type": "code",
   "execution_count": 14,
   "id": "590a15c1",
   "metadata": {},
   "outputs": [
    {
     "name": "stdout",
     "output_type": "stream",
     "text": [
      "5\n"
     ]
    }
   ],
   "source": [
    "print(b)"
   ]
  },
  {
   "cell_type": "code",
   "execution_count": 16,
   "id": "ab69b043",
   "metadata": {},
   "outputs": [
    {
     "name": "stdout",
     "output_type": "stream",
     "text": [
      "10\n"
     ]
    }
   ],
   "source": [
    "print(b)"
   ]
  },
  {
   "cell_type": "code",
   "execution_count": 19,
   "id": "63be7a08",
   "metadata": {},
   "outputs": [
    {
     "name": "stdout",
     "output_type": "stream",
     "text": [
      "5\n"
     ]
    }
   ],
   "source": [
    "print(a)"
   ]
  },
  {
   "cell_type": "code",
   "execution_count": 20,
   "id": "31c309ed",
   "metadata": {},
   "outputs": [
    {
     "name": "stdout",
     "output_type": "stream",
     "text": [
      "10\n"
     ]
    }
   ],
   "source": [
    "print(b)"
   ]
  },
  {
   "cell_type": "code",
   "execution_count": 24,
   "id": "b71efc5d",
   "metadata": {},
   "outputs": [
    {
     "name": "stdout",
     "output_type": "stream",
     "text": [
      "Enter Your Name: rofih\n",
      "Enter your Matric no: 389\n",
      "Enter your D.O.B: 2-1-\n",
      "Enter your sex: male\n",
      "Enter your Level: nd2\n",
      "Enter your year: 2019-2020\n",
      "Enter your age: \n",
      "Enter your g.p: 3.66\n",
      "Enter your wieght: 58\n",
      "Enter your isMuslim: yes\n"
     ]
    },
    {
     "data": {
      "text/plain": [
       "'yes'"
      ]
     },
     "execution_count": 24,
     "metadata": {},
     "output_type": "execute_result"
    }
   ],
   "source": [
    "input(\"Enter Your Name: \")\n",
    "input(\"Enter your Matric no: \")\n",
    "input(\"Enter your D.O.B: \")\n",
    "input(\"Enter your sex: \")\n",
    "input(\"Enter your Level: \")\n",
    "input(\"Enter your year: \")\n",
    "input(\"Enter your age: \")\n",
    "input(\"Enter your g.p: \")\n",
    "input(\"Enter your wieght: \")\n",
    "input(\"Enter your isMuslim: \")\n"
   ]
  },
  {
   "cell_type": "code",
   "execution_count": 25,
   "id": "7a944008",
   "metadata": {},
   "outputs": [
    {
     "ename": "NameError",
     "evalue": "name 'name' is not defined",
     "output_type": "error",
     "traceback": [
      "\u001b[1;31m---------------------------------------------------------------------------\u001b[0m",
      "\u001b[1;31mNameError\u001b[0m                                 Traceback (most recent call last)",
      "\u001b[1;32m<ipython-input-25-57699cee3423>\u001b[0m in \u001b[0;36m<module>\u001b[1;34m\u001b[0m\n\u001b[1;32m----> 1\u001b[1;33m \u001b[0mprint\u001b[0m\u001b[1;33m(\u001b[0m\u001b[1;34m\"your name is:\"\u001b[0m\u001b[1;33m,\u001b[0m\u001b[0mname\u001b[0m\u001b[1;33m)\u001b[0m\u001b[1;33m\u001b[0m\u001b[1;33m\u001b[0m\u001b[0m\n\u001b[0m\u001b[0;32m      2\u001b[0m \u001b[0mprint\u001b[0m\u001b[1;33m(\u001b[0m\u001b[1;34m\"your D.O.B:\"\u001b[0m\u001b[1;33m,\u001b[0m\u001b[0mD\u001b[0m\u001b[1;33m.\u001b[0m\u001b[0mO\u001b[0m\u001b[1;33m.\u001b[0m\u001b[0mB\u001b[0m\u001b[1;33m)\u001b[0m\u001b[1;33m\u001b[0m\u001b[1;33m\u001b[0m\u001b[0m\n\u001b[0;32m      3\u001b[0m \u001b[0mprint\u001b[0m\u001b[1;33m(\u001b[0m\u001b[1;34m\"your sex:\"\u001b[0m\u001b[1;33m,\u001b[0m\u001b[0msex\u001b[0m\u001b[1;33m)\u001b[0m\u001b[1;33m\u001b[0m\u001b[1;33m\u001b[0m\u001b[0m\n\u001b[0;32m      4\u001b[0m \u001b[0mprint\u001b[0m\u001b[1;33m(\u001b[0m\u001b[1;34m\"your Level:\"\u001b[0m\u001b[1;33m,\u001b[0m\u001b[0mLevel\u001b[0m\u001b[1;33m)\u001b[0m\u001b[1;33m\u001b[0m\u001b[1;33m\u001b[0m\u001b[0m\n\u001b[0;32m      5\u001b[0m \u001b[0mprint\u001b[0m\u001b[1;33m(\u001b[0m\u001b[1;34m\"your year:\"\u001b[0m\u001b[1;33m,\u001b[0m\u001b[0myear\u001b[0m\u001b[1;33m)\u001b[0m\u001b[1;33m\u001b[0m\u001b[1;33m\u001b[0m\u001b[0m\n",
      "\u001b[1;31mNameError\u001b[0m: name 'name' is not defined"
     ]
    }
   ],
   "source": [
    "print(\"your name is:\",name)\n",
    "print(\"your D.O.B:\",D.O.B)\n",
    "print(\"your sex:\",sex)\n",
    "print(\"your Level:\",Level)\n",
    "print(\"your year:\",year)\n",
    "print(\"your age:\",age)\n",
    "print(\"your g.p:\",g.p)\n",
    "print(\"your weight:\",weight)\n",
    "print(\"your isMuslim:\",isMuslim)"
   ]
  },
  {
   "cell_type": "code",
   "execution_count": null,
   "id": "89d48686",
   "metadata": {},
   "outputs": [],
   "source": [
    "a = name\n",
    "b = matric no\n",
    "c = D.O.B\n",
    "d = sex\n",
    "e = Level\n",
    "f = year\n",
    "g = age\n",
    "h = g.p\n",
    "i = wieght\n",
    "j = isMuslim"
   ]
  },
  {
   "cell_type": "code",
   "execution_count": null,
   "id": "0d634467",
   "metadata": {},
   "outputs": [],
   "source": [
    "input(\"Enter Your Name: \")\n",
    "input(\"Enter your Matric no: \")\n",
    "input(\"Enter your D.O.B: \")\n",
    "input(\"Enter your sex: \")\n",
    "input(\"Enter your Level: \")\n",
    "input(\"Enter your year: \")\n",
    "input(\"Enter your age: \")\n",
    "input(\"Enter your g.p: \")\n",
    "input(\"Enter your wieght: \")\n",
    "input(\"Enter your isMuslim: \")\n"
   ]
  },
  {
   "cell_type": "code",
   "execution_count": null,
   "id": "dd1eaab1",
   "metadata": {},
   "outputs": [],
   "source": []
  },
  {
   "cell_type": "code",
   "execution_count": null,
   "id": "c6c4c702",
   "metadata": {},
   "outputs": [],
   "source": []
  }
 ],
 "metadata": {
  "kernelspec": {
   "display_name": "Python 3",
   "language": "python",
   "name": "python3"
  },
  "language_info": {
   "codemirror_mode": {
    "name": "ipython",
    "version": 3
   },
   "file_extension": ".py",
   "mimetype": "text/x-python",
   "name": "python",
   "nbconvert_exporter": "python",
   "pygments_lexer": "ipython3",
   "version": "3.8.8"
  }
 },
 "nbformat": 4,
 "nbformat_minor": 5
}
