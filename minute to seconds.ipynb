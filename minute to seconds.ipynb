{
 "cells": [
  {
   "cell_type": "code",
   "execution_count": null,
   "id": "7e832ef2",
   "metadata": {},
   "outputs": [],
   "source": [
    "minute = input(\"minutes:\")"
   ]
  },
  {
   "cell_type": "code",
   "execution_count": null,
   "id": "68e88c8a",
   "metadata": {},
   "outputs": [],
   "source": [
    "minutes = 5\n",
    "minute = minutes * 60"
   ]
  },
  {
   "cell_type": "code",
   "execution_count": null,
   "id": "7dd26e60",
   "metadata": {},
   "outputs": [],
   "source": [
    "print(\"minutes\",minutes) \n"
   ]
  },
  {
   "cell_type": "code",
   "execution_count": null,
   "id": "f17ada1b",
   "metadata": {},
   "outputs": [],
   "source": []
  },
  {
   "cell_type": "code",
   "execution_count": null,
   "id": "e17cf64e",
   "metadata": {},
   "outputs": [],
   "source": []
  }
 ],
 "metadata": {
  "kernelspec": {
   "display_name": "Python 3",
   "language": "python",
   "name": "python3"
  },
  "language_info": {
   "codemirror_mode": {
    "name": "ipython",
    "version": 3
   },
   "file_extension": ".py",
   "mimetype": "text/x-python",
   "name": "python",
   "nbconvert_exporter": "python",
   "pygments_lexer": "ipython3",
   "version": "3.8.8"
  }
 },
 "nbformat": 4,
 "nbformat_minor": 5
}
