{
 "cells": [
  {
   "cell_type": "code",
   "execution_count": 111,
   "id": "7ebf116a",
   "metadata": {},
   "outputs": [],
   "source": [
    "# Assignment operators\n",
    "a = \"None\"\n",
    "b = '6'\n",
    "c = 4"
   ]
  },
  {
   "cell_type": "code",
   "execution_count": 7,
   "id": "b9600e6b",
   "metadata": {},
   "outputs": [
    {
     "data": {
      "text/plain": [
       "8"
      ]
     },
     "execution_count": 7,
     "metadata": {},
     "output_type": "execute_result"
    }
   ],
   "source": [
    "# Arithmetic operators\n",
    "a + b\n"
   ]
  },
  {
   "cell_type": "code",
   "execution_count": 9,
   "id": "57871cd4",
   "metadata": {},
   "outputs": [
    {
     "data": {
      "text/plain": [
       "-4"
      ]
     },
     "execution_count": 9,
     "metadata": {},
     "output_type": "execute_result"
    }
   ],
   "source": [
    "a - b\n"
   ]
  },
  {
   "cell_type": "code",
   "execution_count": 10,
   "id": "b344f2a8",
   "metadata": {},
   "outputs": [
    {
     "data": {
      "text/plain": [
       "3.0"
      ]
     },
     "execution_count": 10,
     "metadata": {},
     "output_type": "execute_result"
    }
   ],
   "source": [
    "b / a\n"
   ]
  },
  {
   "cell_type": "code",
   "execution_count": 11,
   "id": "5ef36ffe",
   "metadata": {},
   "outputs": [
    {
     "data": {
      "text/plain": [
       "12"
      ]
     },
     "execution_count": 11,
     "metadata": {},
     "output_type": "execute_result"
    }
   ],
   "source": [
    "a * b\n"
   ]
  },
  {
   "cell_type": "code",
   "execution_count": 12,
   "id": "9eaa6e66",
   "metadata": {},
   "outputs": [
    {
     "data": {
      "text/plain": [
       "16"
      ]
     },
     "execution_count": 12,
     "metadata": {},
     "output_type": "execute_result"
    }
   ],
   "source": [
    "a **c\n"
   ]
  },
  {
   "cell_type": "code",
   "execution_count": 13,
   "id": "798c213d",
   "metadata": {},
   "outputs": [
    {
     "data": {
      "text/plain": [
       "0"
      ]
     },
     "execution_count": 13,
     "metadata": {},
     "output_type": "execute_result"
    }
   ],
   "source": [
    "b % a\n"
   ]
  },
  {
   "cell_type": "code",
   "execution_count": 14,
   "id": "86598ab4",
   "metadata": {},
   "outputs": [
    {
     "data": {
      "text/plain": [
       "0"
      ]
     },
     "execution_count": 14,
     "metadata": {},
     "output_type": "execute_result"
    }
   ],
   "source": [
    "c // b"
   ]
  },
  {
   "cell_type": "code",
   "execution_count": 62,
   "id": "e8dd10cd",
   "metadata": {},
   "outputs": [],
   "source": [
    "#Logical operators\n",
    "a and c"
   ]
  },
  {
   "cell_type": "code",
   "execution_count": 55,
   "id": "edceefe2",
   "metadata": {},
   "outputs": [
    {
     "data": {
      "text/plain": [
       "True"
      ]
     },
     "execution_count": 55,
     "metadata": {},
     "output_type": "execute_result"
    }
   ],
   "source": [
    "c = a != b\n",
    "c"
   ]
  },
  {
   "cell_type": "code",
   "execution_count": 31,
   "id": "1e002dc4",
   "metadata": {},
   "outputs": [
    {
     "data": {
      "text/plain": [
       "False"
      ]
     },
     "execution_count": 31,
     "metadata": {},
     "output_type": "execute_result"
    }
   ],
   "source": [
    "not a"
   ]
  },
  {
   "cell_type": "code",
   "execution_count": 37,
   "id": "ef540ddb",
   "metadata": {},
   "outputs": [
    {
     "data": {
      "text/plain": [
       "2"
      ]
     },
     "execution_count": 37,
     "metadata": {},
     "output_type": "execute_result"
    }
   ],
   "source": [
    "a or b"
   ]
  },
  {
   "cell_type": "code",
   "execution_count": 39,
   "id": "eb4121c0",
   "metadata": {},
   "outputs": [
    {
     "data": {
      "text/plain": [
       "False"
      ]
     },
     "execution_count": 39,
     "metadata": {},
     "output_type": "execute_result"
    }
   ],
   "source": [
    "#comparism operators\n",
    "a == b"
   ]
  },
  {
   "cell_type": "code",
   "execution_count": 49,
   "id": "a0711ba8",
   "metadata": {},
   "outputs": [
    {
     "data": {
      "text/plain": [
       "True"
      ]
     },
     "execution_count": 49,
     "metadata": {},
     "output_type": "execute_result"
    }
   ],
   "source": [
    "a is b"
   ]
  },
  {
   "cell_type": "code",
   "execution_count": 64,
   "id": "64abbb43",
   "metadata": {},
   "outputs": [
    {
     "data": {
      "text/plain": [
       "True"
      ]
     },
     "execution_count": 64,
     "metadata": {},
     "output_type": "execute_result"
    }
   ],
   "source": [
    "a < b"
   ]
  },
  {
   "cell_type": "code",
   "execution_count": 65,
   "id": "9bfc6768",
   "metadata": {},
   "outputs": [
    {
     "data": {
      "text/plain": [
       "True"
      ]
     },
     "execution_count": 65,
     "metadata": {},
     "output_type": "execute_result"
    }
   ],
   "source": [
    "b >= a"
   ]
  },
  {
   "cell_type": "code",
   "execution_count": 67,
   "id": "307798f7",
   "metadata": {},
   "outputs": [
    {
     "data": {
      "text/plain": [
       "True"
      ]
     },
     "execution_count": 67,
     "metadata": {},
     "output_type": "execute_result"
    }
   ],
   "source": [
    "c <= a"
   ]
  },
  {
   "cell_type": "code",
   "execution_count": 68,
   "id": "b3c54d86",
   "metadata": {},
   "outputs": [
    {
     "data": {
      "text/plain": [
       "True"
      ]
     },
     "execution_count": 68,
     "metadata": {},
     "output_type": "execute_result"
    }
   ],
   "source": [
    "b > a"
   ]
  },
  {
   "cell_type": "code",
   "execution_count": 113,
   "id": "ef450839",
   "metadata": {},
   "outputs": [
    {
     "data": {
      "text/plain": [
       "False"
      ]
     },
     "execution_count": 113,
     "metadata": {},
     "output_type": "execute_result"
    }
   ],
   "source": [
    "#Identity Operators\n",
    "a in b"
   ]
  },
  {
   "cell_type": "code",
   "execution_count": 74,
   "id": "f3f0c061",
   "metadata": {},
   "outputs": [
    {
     "data": {
      "text/plain": [
       "True"
      ]
     },
     "execution_count": 74,
     "metadata": {},
     "output_type": "execute_result"
    }
   ],
   "source": [
    "a not in c"
   ]
  },
  {
   "cell_type": "code",
   "execution_count": 76,
   "id": "f4c0a976",
   "metadata": {},
   "outputs": [
    {
     "data": {
      "text/plain": [
       "True"
      ]
     },
     "execution_count": 76,
     "metadata": {},
     "output_type": "execute_result"
    }
   ],
   "source": [
    "a is not b"
   ]
  },
  {
   "cell_type": "code",
   "execution_count": 3,
   "id": "3a57f362",
   "metadata": {},
   "outputs": [],
   "source": [
    "name = \"BUBBLE\""
   ]
  },
  {
   "cell_type": "code",
   "execution_count": 9,
   "id": "8bcdde69",
   "metadata": {},
   "outputs": [
    {
     "data": {
      "text/plain": [
       "6"
      ]
     },
     "execution_count": 9,
     "metadata": {},
     "output_type": "execute_result"
    }
   ],
   "source": [
    "len(name)"
   ]
  },
  {
   "cell_type": "code",
   "execution_count": 81,
   "id": "012ca4d0",
   "metadata": {},
   "outputs": [
    {
     "data": {
      "text/plain": [
       "'BUBBLE'"
      ]
     },
     "execution_count": 81,
     "metadata": {},
     "output_type": "execute_result"
    }
   ],
   "source": [
    "name.upper()"
   ]
  },
  {
   "cell_type": "code",
   "execution_count": 82,
   "id": "3aa6b80f",
   "metadata": {},
   "outputs": [
    {
     "data": {
      "text/plain": [
       "'bubble'"
      ]
     },
     "execution_count": 82,
     "metadata": {},
     "output_type": "execute_result"
    }
   ],
   "source": [
    "name.lower()"
   ]
  },
  {
   "cell_type": "code",
   "execution_count": 92,
   "id": "f9f4c42a",
   "metadata": {},
   "outputs": [
    {
     "data": {
      "text/plain": [
       "['B', 'BBLE']"
      ]
     },
     "execution_count": 92,
     "metadata": {},
     "output_type": "execute_result"
    }
   ],
   "source": [
    "name.split(\"U\")"
   ]
  },
  {
   "cell_type": "code",
   "execution_count": 98,
   "id": "d57dd7e4",
   "metadata": {},
   "outputs": [
    {
     "data": {
      "text/plain": [
       "'OUOOLE'"
      ]
     },
     "execution_count": 98,
     "metadata": {},
     "output_type": "execute_result"
    }
   ],
   "source": [
    "name.replace(\"B\",\"O\",)"
   ]
  },
  {
   "cell_type": "code",
   "execution_count": 99,
   "id": "70066ac7",
   "metadata": {},
   "outputs": [
    {
     "data": {
      "text/plain": [
       "'OUBBLE'"
      ]
     },
     "execution_count": 99,
     "metadata": {},
     "output_type": "execute_result"
    }
   ],
   "source": [
    "name.replace(\"B\",\"O\",1)"
   ]
  },
  {
   "cell_type": "code",
   "execution_count": 106,
   "id": "64593913",
   "metadata": {},
   "outputs": [
    {
     "data": {
      "text/plain": [
       "0"
      ]
     },
     "execution_count": 106,
     "metadata": {},
     "output_type": "execute_result"
    }
   ],
   "source": [
    "name.find(\"BUBBLE\")"
   ]
  },
  {
   "cell_type": "code",
   "execution_count": 117,
   "id": "22b75a4e",
   "metadata": {},
   "outputs": [
    {
     "data": {
      "text/plain": [
       "'Bubble Is Fun'"
      ]
     },
     "execution_count": 117,
     "metadata": {},
     "output_type": "execute_result"
    }
   ],
   "source": [
    "name.title()"
   ]
  },
  {
   "cell_type": "code",
   "execution_count": 120,
   "id": "9a1aa20b",
   "metadata": {},
   "outputs": [
    {
     "data": {
      "text/plain": [
       "'BUBBL'"
      ]
     },
     "execution_count": 120,
     "metadata": {},
     "output_type": "execute_result"
    }
   ],
   "source": [
    "name.strip(\"E\")"
   ]
  },
  {
   "cell_type": "code",
   "execution_count": 160,
   "id": "acf1658e",
   "metadata": {},
   "outputs": [],
   "source": [
    "tittle = \"Recurrsion\""
   ]
  },
  {
   "cell_type": "code",
   "execution_count": 166,
   "id": "3208ecda",
   "metadata": {},
   "outputs": [
    {
     "data": {
      "text/plain": [
       "'Recusion'"
      ]
     },
     "execution_count": 166,
     "metadata": {},
     "output_type": "execute_result"
    }
   ],
   "source": [
    "tittle.replace('r',\"\")"
   ]
  },
  {
   "cell_type": "code",
   "execution_count": 161,
   "id": "b22c694c",
   "metadata": {},
   "outputs": [
    {
     "data": {
      "text/plain": [
       "['Recurrs', 'on']"
      ]
     },
     "execution_count": 161,
     "metadata": {},
     "output_type": "execute_result"
    }
   ],
   "source": [
    "tittle.split('i')"
   ]
  },
  {
   "cell_type": "code",
   "execution_count": 130,
   "id": "774653b2",
   "metadata": {},
   "outputs": [],
   "source": [
    "words = 'Short Sentence'"
   ]
  },
  {
   "cell_type": "code",
   "execution_count": 134,
   "id": "fb3f0551",
   "metadata": {},
   "outputs": [
    {
     "name": "stdout",
     "output_type": "stream",
     "text": [
      "Short Sentence\n"
     ]
    }
   ],
   "source": [
    "print(words [0:])"
   ]
  },
  {
   "cell_type": "code",
   "execution_count": 135,
   "id": "aa62296a",
   "metadata": {},
   "outputs": [
    {
     "name": "stdout",
     "output_type": "stream",
     "text": [
      "S\n"
     ]
    }
   ],
   "source": [
    "print(words [0:1])"
   ]
  },
  {
   "cell_type": "code",
   "execution_count": 136,
   "id": "45c19cea",
   "metadata": {},
   "outputs": [
    {
     "name": "stdout",
     "output_type": "stream",
     "text": [
      "ort Sen\n"
     ]
    }
   ],
   "source": [
    "print(words [2:-5])"
   ]
  },
  {
   "cell_type": "code",
   "execution_count": 137,
   "id": "73937c37",
   "metadata": {},
   "outputs": [
    {
     "name": "stdout",
     "output_type": "stream",
     "text": [
      "tence\n"
     ]
    }
   ],
   "source": [
    "print(words [-5:])"
   ]
  },
  {
   "cell_type": "code",
   "execution_count": 138,
   "id": "1c00ff4c",
   "metadata": {},
   "outputs": [
    {
     "name": "stdout",
     "output_type": "stream",
     "text": [
      "Sentence\n"
     ]
    }
   ],
   "source": [
    "print(words [6:])"
   ]
  },
  {
   "cell_type": "code",
   "execution_count": 142,
   "id": "f3332534",
   "metadata": {},
   "outputs": [],
   "source": [
    "n1 = 'LOVE'\n",
    "n2 = 'ENERGY'\n",
    "n3 = 'GIVE'\n",
    "n4 = 'WORLD'\n",
    "n5 = 'LIKE'"
   ]
  },
  {
   "cell_type": "code",
   "execution_count": 146,
   "id": "d4d5c0dc",
   "metadata": {},
   "outputs": [
    {
     "data": {
      "text/plain": [
       "'LOVEENERGYGIVEWORLDLIKE'"
      ]
     },
     "execution_count": 146,
     "metadata": {},
     "output_type": "execute_result"
    }
   ],
   "source": [
    "n1 +  n2 +  n3 +  n4 + n5"
   ]
  },
  {
   "cell_type": "code",
   "execution_count": 167,
   "id": "3a8e3bd6",
   "metadata": {},
   "outputs": [],
   "source": [
    "w1 = 'rofih'\n",
    "w2 = 'age'\n",
    "n1 = '18'"
   ]
  },
  {
   "cell_type": "code",
   "execution_count": 173,
   "id": "afe62fbc",
   "metadata": {},
   "outputs": [
    {
     "data": {
      "text/plain": [
       "'My name is rofih and my age is LOVE'"
      ]
     },
     "execution_count": 173,
     "metadata": {},
     "output_type": "execute_result"
    }
   ],
   "source": [
    "sentence = \"My name is {0} and my {1} is {2}\".format(w1,w2,n1)\n",
    "\n",
    "sentence"
   ]
  },
  {
   "cell_type": "code",
   "execution_count": 176,
   "id": "4b28639d",
   "metadata": {},
   "outputs": [
    {
     "data": {
      "text/plain": [
       "'my name is rofih and my age is 18'"
      ]
     },
     "execution_count": 176,
     "metadata": {},
     "output_type": "execute_result"
    }
   ],
   "source": [
    "new_sent = f\"my name is {w1} and my {w2} is {w3}\"\n",
    "new_sent"
   ]
  },
  {
   "cell_type": "code",
   "execution_count": 1,
   "id": "8f059175",
   "metadata": {},
   "outputs": [
    {
     "name": "stdout",
     "output_type": "stream",
     "text": [
      "enter a wordout\n",
      "enter a wordgot\n",
      "enter a wordtug\n",
      "enter a wordrent\n",
      "enter a wordwet\n",
      "enter a wordleg\n",
      "enter a word:get\n",
      "enter a word:beg\n",
      "enter a word:ark\n",
      "enter a word:nap\n"
     ]
    }
   ],
   "source": [
    "word1 = input(\"enter a word\")\n",
    "word2 = input(\"enter a word\")\n",
    "word3 = input(\"enter a word\")\n",
    "word4 = input(\"enter a word\")\n",
    "word5 = input(\"enter a word\")\n",
    "word6 = input(\"enter a word\")\n",
    "word7 = input(\"enter a word:\")\n",
    "word8 = input(\"enter a word:\")\n",
    "word9 = input(\"enter a word:\")\n",
    "word10 = input(\"enter a word:\")"
   ]
  },
  {
   "cell_type": "code",
   "execution_count": 2,
   "id": "9626bb25",
   "metadata": {},
   "outputs": [
    {
     "data": {
      "text/plain": [
       "'Intelligent out Process got Automation tug is one rent aspect of wet a broader leg shift in get technology,beg that of ark Automation nap as a whole.'"
      ]
     },
     "execution_count": 2,
     "metadata": {},
     "output_type": "execute_result"
    }
   ],
   "source": [
    "sentence = f\"Intelligent {word1} Process {word2} Automation {word3} is one {word4} aspect of {word5} a broader {word6} shift in {word7} technology,{word8} that of {word9} Automation {word10} as a whole.\"\n",
    "sentence"
   ]
  },
  {
   "cell_type": "code",
   "execution_count": 3,
   "id": "a7e30b9c",
   "metadata": {},
   "outputs": [
    {
     "data": {
      "text/plain": [
       "2"
      ]
     },
     "execution_count": 3,
     "metadata": {},
     "output_type": "execute_result"
    }
   ],
   "source": [
    "1 + 1"
   ]
  },
  {
   "cell_type": "code",
   "execution_count": 4,
   "id": "367923bd",
   "metadata": {},
   "outputs": [
    {
     "data": {
      "text/plain": [
       "2"
      ]
     },
     "execution_count": 4,
     "metadata": {},
     "output_type": "execute_result"
    }
   ],
   "source": [
    "_"
   ]
  },
  {
   "cell_type": "code",
   "execution_count": 8,
   "id": "04191845",
   "metadata": {},
   "outputs": [],
   "source": [
    "_ = \"hey\""
   ]
  },
  {
   "cell_type": "code",
   "execution_count": 9,
   "id": "db17cfcb",
   "metadata": {},
   "outputs": [
    {
     "data": {
      "text/plain": [
       "'hey'"
      ]
     },
     "execution_count": 9,
     "metadata": {},
     "output_type": "execute_result"
    }
   ],
   "source": [
    "_"
   ]
  },
  {
   "cell_type": "code",
   "execution_count": null,
   "id": "d249a0d3",
   "metadata": {},
   "outputs": [],
   "source": [
    "minute = input(\"minutes:\")"
   ]
  },
  {
   "cell_type": "code",
   "execution_count": null,
   "id": "12243530",
   "metadata": {},
   "outputs": [],
   "source": [
    "minutes = 5\n",
    "minute = minutes * 60"
   ]
  },
  {
   "cell_type": "code",
   "execution_count": null,
   "id": "f313978e",
   "metadata": {},
   "outputs": [],
   "source": [
    "print(\"minutes\",minute) "
   ]
  },
  {
   "cell_type": "code",
   "execution_count": null,
   "id": "bd883d82",
   "metadata": {},
   "outputs": [],
   "source": []
  }
 ],
 "metadata": {
  "kernelspec": {
   "display_name": "Python 3",
   "language": "python",
   "name": "python3"
  },
  "language_info": {
   "codemirror_mode": {
    "name": "ipython",
    "version": 3
   },
   "file_extension": ".py",
   "mimetype": "text/x-python",
   "name": "python",
   "nbconvert_exporter": "python",
   "pygments_lexer": "ipython3",
   "version": "3.8.8"
  }
 },
 "nbformat": 4,
 "nbformat_minor": 5
}
