{
 "cells": [
  {
   "cell_type": "code",
   "execution_count": 16,
   "id": "63fee1a6",
   "metadata": {},
   "outputs": [
    {
     "name": "stdout",
     "output_type": "stream",
     "text": [
      "my name is Rofih, i am a student of FCAHPTIB\n",
      "my name is yusrah, i am a student of FCAHPTIB\n",
      "<__main__.Students object at 0x000001FAB1324BE0>\n",
      "Rofih has paid the amount of 50,000 for ND1\n",
      "my name is Aishat, i am a student of FCAHPTIB\n",
      "Aishat has paid the amount of 150,000\n"
     ]
    }
   ],
   "source": [
    "#class\n",
    "class Students:\n",
    "    def __init__(self, name, age, gender, matric_no):\n",
    "        self.name = name\n",
    "        self.age = age\n",
    "        self.gender = gender\n",
    "        self.matric_no = matric_no\n",
    "        self.level = \"ND1\"\n",
    "        print(f\"my name is {self.name}, i am a student of FCAHPTIB\")\n",
    "    def payFees(self):\n",
    "        print(f'{self.name} has paid the amount of 50,000 for {self.level}')\n",
    "student1 = Students(\"Rofih\", 71, \"M\", \"NDCOM-19-389\")\n",
    "student2 = Students(\"yusrah\", 71, \"F\", \"NDCOM-19-382\")\n",
    "print(student1)\n",
    "student1.payFees()\n",
    "\n",
    "#inheritance\n",
    "class partTimeStudents(Students):\n",
    "    def __init__(self, name, age, gender, matric_no):\n",
    "         Students.__init__(self, name, age, gender, matric_no)\n",
    "    \n",
    "    def payFees(self):  \n",
    "        print(f'{self.name} has paid the amount of 150,000')\n",
    "        \n",
    "pt_student = partTimeStudents(\"Aishat\", 65, \"F\", \"389\")\n",
    "pt_student.payFees()"
   ]
  },
  {
   "cell_type": "code",
   "execution_count": 48,
   "id": "92a71eb8",
   "metadata": {},
   "outputs": [
    {
     "name": "stdout",
     "output_type": "stream",
     "text": [
      "reproducing is a property of animal\n",
      "walking\n",
      "walking is also a property of animals\n",
      "barks is a property of animal\n",
      "A dog barks\n",
      "meow is a property of animal\n",
      "A cat meow\n",
      "meowing is a property of animal\n",
      "A fish does not sleep\n"
     ]
    }
   ],
   "source": [
    "class Animal:\n",
    "    def __init__(self, Kingdom, Family, vertebrate):\n",
    "        self.Kingdom = Kingdom\n",
    "        self.Family = Family\n",
    "        self.vertebrate = vertebrate\n",
    "        print(f'{self.Kingdom} is a property of animal')\n",
    "    def move(self):\n",
    "        print(f'{self.Family} is also a property of animals')\n",
    "animal = Animal(\"reproducing\", \"walking\", \"Mamalia\")\n",
    "print(animal.Family)\n",
    "animal.move() \n",
    "\n",
    "class dog(Animal):\n",
    "    def __init__(self, Kingdom, Family, vertebrate):\n",
    "        Animal.__init__(self, Kingdom, Family, vertebrate)\n",
    "        \n",
    "    def move(self):\n",
    "        print(f'A dog {self.Kingdom}')\n",
    "Dog = dog(\"barks\", \"eats\", \"sleep\")\n",
    "Dog.move()\n",
    "\n",
    "class cat(Animal):\n",
    "    def __init__(self, Kingdom, Family, vertebrate):\n",
    "        Animal.__init__(self, Kingdom, Family, vertebrate)\n",
    "    \n",
    "    def move(self):\n",
    "        print(f'A cat {self.Kingdom}')\n",
    "Cat = cat(\"meow\", \"eats\", \"sleep\") \n",
    "Cat.move()\n",
    "\n",
    "class fish(Animal):\n",
    "    def __init__(self, Kingdom, Family, vertebrate):\n",
    "        Animal.__init__(self, Kingdom, Family, vertebrate)\n",
    "    \n",
    "    def move(self):\n",
    "        print(f'A fish does not {self.vertebrate}')\n",
    "Fish = fish(\"meowing\", \"eats\", \"sleep\") \n",
    "Fish.move()\n",
    "        "
   ]
  }
 ],
 "metadata": {
  "kernelspec": {
   "display_name": "Python 3",
   "language": "python",
   "name": "python3"
  },
  "language_info": {
   "codemirror_mode": {
    "name": "ipython",
    "version": 3
   },
   "file_extension": ".py",
   "mimetype": "text/x-python",
   "name": "python",
   "nbconvert_exporter": "python",
   "pygments_lexer": "ipython3",
   "version": "3.8.8"
  }
 },
 "nbformat": 4,
 "nbformat_minor": 5
}
